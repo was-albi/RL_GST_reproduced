{
 "cells": [
  {
   "cell_type": "markdown",
   "id": "626be1c4",
   "metadata": {},
   "source": [
    "# Notebook for the reproduction of results in [Randomized Linear Gate Set Tomography](https://journals.aps.org/prxquantum/pdf/10.1103/PRXQuantum.2.030328)."
   ]
  },
  {
   "cell_type": "code",
   "execution_count": 1,
   "id": "bb6c928c",
   "metadata": {},
   "outputs": [],
   "source": [
    "import numpy as np\n",
    "import matplotlib.pyplot as plt\n",
    "\n",
    "# Import my own modules\n",
    "from src import quantum_utilities as qu\n",
    "from src import randomized_linear_gst as rlgst\n",
    "\n",
    "# Import Qiskit basics\n",
    "from qiskit import QuantumCircuit\n",
    "from qiskit import Aer, transpile, execute\n",
    "from qiskit.tools.visualization import plot_histogram\n",
    "\n",
    "# Import from QiskitAer noise module\n",
    "from qiskit.providers.aer import AerSimulator\n",
    "from qiskit.providers.aer.noise import NoiseModel\n",
    "from qiskit.providers.aer.noise import QuantumError, ReadoutError\n",
    "from qiskit.providers.aer.noise import pauli_error, amplitude_damping_error, coherent_unitary_error\n",
    "from qiskit.providers.aer.noise import depolarizing_error\n",
    "\n",
    "# Import Quantum Information module\n",
    "import qiskit.quantum_info as qi\n"
   ]
  },
  {
   "cell_type": "markdown",
   "id": "f2d07d95",
   "metadata": {},
   "source": [
    "## Build noise model"
   ]
  },
  {
   "cell_type": "markdown",
   "id": "8a5ef3d4",
   "metadata": {},
   "source": [
    "Define initial parameters for you QC system and the error model, as well as the error magnitude."
   ]
  },
  {
   "cell_type": "code",
   "execution_count": 2,
   "id": "440700b5",
   "metadata": {
    "scrolled": true
   },
   "outputs": [],
   "source": [
    "num_qubits = 1\n",
    "d2 = 2**(2*num_qubits)\n",
    "native_gate_list = ['I', 'Xpi2', 'Ypi2']\n",
    "\n",
    "error_scale = 1*(10**(-4))\n",
    "\n",
    "\n",
    "rng = np.random.default_rng(2703)\n",
    "\n",
    "\n",
    "# create list of native gate operations as numpy array\n",
    "Xpi2 = qu.get_rotation_gate(np.pi/2,'x')\n",
    "Ypi2 = qu.get_rotation_gate(np.pi/2,'y')\n",
    "native_gate_op = [np.eye(2), Xpi2, Ypi2]\n",
    "native_gate_channels = [qu.gate_to_channelmatrix(G) for G in native_gate_op]\n",
    "\n",
    "\n",
    "def noise_model(e_vec):\n",
    "    NM = np.eye(4)\n",
    "    NM = np.dot(qu.get_rotation_channel(e_vec[6],'z'),NM)\n",
    "    NM = np.dot(qu.get_rotation_channel(e_vec[5],'y'),NM)\n",
    "    NM = np.dot(qu.get_rotation_channel(e_vec[4],'x'),NM)\n",
    "    NM = np.dot(qu.get_Pauli_channel2(e_vec[1],e_vec[2],e_vec[3]),NM)\n",
    "    NM = np.dot(qu.get_AD_channel2(e_vec[0]),NM)\n",
    "    return(NM)\n",
    "\n",
    "noisy_native_gate_channels = [noise_model(rng.random(7)*error_scale)@gate for gate in native_gate_channels]\n",
    "\n",
    "\n",
    "\n",
    "def linear_noise_model(e_vec):\n",
    "    return( np.eye(4) + np.vstack( (np.zeros((1,4)), e_vec.reshape(3,4) )   ) )\n",
    "\n",
    "\n",
    "# noisy_native_gate_channels = [linear_noise_model(rng.random(12)*error_scale)@gate for gate in native_gate_channels]\n"
   ]
  },
  {
   "cell_type": "code",
   "execution_count": 3,
   "id": "0571cf08",
   "metadata": {},
   "outputs": [
    {
     "name": "stdout",
     "output_type": "stream",
     "text": [
      "AGsI:\n",
      "0.00011382822564835286\n"
     ]
    }
   ],
   "source": [
    "print('AGsI:')\n",
    "print(np.real(qu.AGsI(native_gate_channels, noisy_native_gate_channels)))"
   ]
  },
  {
   "cell_type": "markdown",
   "id": "ccd5c5f6",
   "metadata": {},
   "source": [
    "Now we will setup initial state and measurement error. Notice that, chosing as POVM $P_0 = |0\\rangle \\langle 0 | + \\frac{a}{\\sqrt{2}}(X + Y - Z)$ will only affect the measurement in Z basis as $P_0 = |0\\rangle \\langle 0 | + \\frac{a}{\\sqrt{2}}(- Z)$, i.e. with a mis-reading equal to $\\frac{a}{\\sqrt{2}}$ for both $P(1|0)$ and $P(0|1)$."
   ]
  },
  {
   "cell_type": "code",
   "execution_count": 4,
   "id": "0817506a",
   "metadata": {},
   "outputs": [],
   "source": [
    "# build initial state \\rho_in and POVMs\n",
    "a = 0.01\n",
    "\n",
    "rho_in = np.array([[1, 0],[0, 0]], dtype = np.complex_) + a/np.sqrt(2) * ( qi.Pauli('X').to_matrix() + qi.Pauli('Y').to_matrix() - qi.Pauli('Z').to_matrix())\n",
    "\n",
    "P0 = rho_in # set measurement POVM\n",
    "P1 = np.array([[1, 0],[0, 1]], dtype = np.complex_) - P0\n",
    "\n",
    "rho_dirac = qu.superket(rho_in)\n",
    "P0_dirac = qu.superbra(P0)"
   ]
  },
  {
   "cell_type": "markdown",
   "id": "91570bce",
   "metadata": {},
   "source": [
    "## Sample circuits of intrest"
   ]
  },
  {
   "cell_type": "markdown",
   "id": "a1b7fb8f",
   "metadata": {},
   "source": [
    "Each circuit will be a list of integers from $1$ to $|\\mathcal{G}|$. They will be then arranged into a list of lists, grouping per depth.\n",
    "NOTE: duplicate circuits have to be discarded."
   ]
  },
  {
   "cell_type": "code",
   "execution_count": 5,
   "id": "c2039111",
   "metadata": {},
   "outputs": [],
   "source": [
    "L_list = [8, 16, 32, 64, 128]\n",
    "#L_list = [8,16,32]\n",
    "Nc = 150\n",
    "#Nc = 24\n",
    "Nshots = 8192\n",
    "\n",
    "\n",
    "circuit_list = []\n",
    "circuit_list.append([])\n",
    "for l in range(len(L_list)):\n",
    "    circuits = []\n",
    "    for i in range(Nc):\n",
    "        c = rng.integers(low=0, high= len(native_gate_list), size=L_list[l]).tolist() \n",
    "        while c in circuits:\n",
    "            c = rng.integers(low=0, high= len(native_gate_list), size=L_list[l]).tolist()\n",
    "        circuits.append(c)\n",
    "    circuit_list.append(circuits)\n",
    "\n",
    "    \n",
    "Nc_tot = 1 + len(L_list)*Nc\n",
    "L_list = [0] + L_list\n"
   ]
  },
  {
   "cell_type": "markdown",
   "id": "83de8a46",
   "metadata": {},
   "source": [
    "## Compute $\\tilde{p}$ and $p$ and build $\\mathbf{C}$\n",
    "Ideal probabilities can be retrived from the same method that builds $\\mathbf{C}$. Noisy probabilities have to be simulated apart."
   ]
  },
  {
   "cell_type": "code",
   "execution_count": 6,
   "id": "ceb87bd0",
   "metadata": {},
   "outputs": [],
   "source": [
    "p_noisy = np.zeros((Nc_tot,1))\n",
    "p_true = np.zeros((Nc_tot,1))\n",
    "ne_param = len(native_gate_channels)*d2*(d2-1)+2*d2-1\n",
    "C = np.zeros((Nc_tot, ne_param))\n",
    "\n",
    "j = 1\n",
    "p_noisy[0] = qu.my_braket([P0_dirac,rho_dirac]) # null circuit\n",
    "C[0],p_true[0] = rlgst.get_C_coeff([],native_gate_channels)\n",
    "\n",
    "\n",
    "for l in range(1,len(L_list)):\n",
    "    for c in circuit_list[l]:\n",
    "        C[j],p_true[j] = rlgst.get_C_coeff(c,native_gate_channels)\n",
    "        gate_list = [noisy_native_gate_channels[gate] for gate in c[::-1] ]\n",
    "        gate_list.insert(0,P0_dirac)\n",
    "        gate_list.append(rho_dirac)\n",
    "        p_noisy[j] = np.round(qu.my_braket(gate_list)*Nshots)/Nshots\n",
    "        j+=1    \n"
   ]
  },
  {
   "cell_type": "code",
   "execution_count": 7,
   "id": "1a1a9167",
   "metadata": {},
   "outputs": [
    {
     "name": "stdout",
     "output_type": "stream",
     "text": [
      "2.220446049250313e-16\n",
      "[[ 0.00000000e+00  0.00000000e+00  0.00000000e+00  0.00000000e+00\n",
      "   0.00000000e+00  0.00000000e+00  0.00000000e+00  0.00000000e+00\n",
      "   0.00000000e+00  0.00000000e+00  0.00000000e+00  0.00000000e+00\n",
      "   0.00000000e+00  0.00000000e+00  0.00000000e+00  0.00000000e+00\n",
      "   0.00000000e+00  0.00000000e+00  0.00000000e+00  0.00000000e+00\n",
      "   0.00000000e+00  0.00000000e+00  0.00000000e+00  0.00000000e+00\n",
      "   0.00000000e+00  0.00000000e+00  0.00000000e+00  0.00000000e+00\n",
      "   0.00000000e+00  0.00000000e+00  0.00000000e+00  0.00000000e+00\n",
      "   0.00000000e+00  0.00000000e+00  0.00000000e+00  0.00000000e+00\n",
      "   0.00000000e+00  0.00000000e+00  7.07106781e-01  7.07106781e-01\n",
      "   0.00000000e+00  0.00000000e+00  7.07106781e-01]\n",
      " [ 0.00000000e+00  0.00000000e+00  0.00000000e+00  0.00000000e+00\n",
      "   0.00000000e+00  0.00000000e+00  0.00000000e+00  0.00000000e+00\n",
      "   1.00000000e+00  1.00000000e+00 -1.61771350e-16  6.47085399e-16\n",
      "   3.23542700e-16  3.23542700e-16 -5.23399392e-32  8.71635084e-48\n",
      "   0.00000000e+00  0.00000000e+00  0.00000000e+00  0.00000000e+00\n",
      "   5.00000000e-01  5.00000000e-01 -8.08856749e-17  1.34701708e-32\n",
      "   1.66533454e-16  8.00363394e-16  3.69778549e-32 -1.00000000e+00\n",
      "   5.00000000e-01  5.00000000e-01  0.00000000e+00  8.08856749e-17\n",
      "  -5.55111512e-17  1.00000000e+00  1.23259516e-32  8.00363394e-16\n",
      "  -1.17756934e-16  7.07106781e-01  4.57558474e-16  7.07106781e-01\n",
      "   7.07106781e-01 -1.14389618e-16  4.57558474e-16]\n",
      " [ 8.59589431e-17 -1.16606658e-32  1.34701708e-32  2.47730293e-16\n",
      "  -7.78822944e-17  1.20487819e-32 -1.39185149e-32 -2.45038077e-16\n",
      "   0.00000000e+00 -7.20811553e-17  8.32667268e-17  1.00000000e+00\n",
      "  -5.00000000e-01  5.00000000e-01 -3.19811448e-16  1.64152402e-16\n",
      "  -5.00000000e-01  1.20487819e-32  5.00000000e-01 -1.66844618e-16\n",
      "  -5.00000000e-01 -1.55659046e-16  1.61460186e-16  5.00000000e-01\n",
      "  -5.00000000e-01  5.00000000e-01  1.64152402e-16  1.52966830e-16\n",
      "  -5.00000000e-01 -1.55659046e-16  5.00000000e-01 -3.90394609e-32\n",
      "   5.00000000e-01 -1.75337973e-16  3.19811448e-16  5.00000000e-01\n",
      "   2.32146553e-16 -2.32146553e-16  7.07106781e-01  7.07106781e-01\n",
      "  -2.32146553e-16  2.32146553e-16  7.07106781e-01]\n",
      " [ 0.00000000e+00  0.00000000e+00  0.00000000e+00  0.00000000e+00\n",
      "   0.00000000e+00  0.00000000e+00  0.00000000e+00  0.00000000e+00\n",
      "   0.00000000e+00  0.00000000e+00  0.00000000e+00  0.00000000e+00\n",
      "  -4.93390698e-16  4.93390698e-16 -3.28429328e-47 -7.61372412e-32\n",
      "  -5.00000000e-01  5.00000000e-01 -1.54190962e-31 -2.31471453e-16\n",
      "  -5.55111512e-17  5.55111512e-17  4.62942906e-16 -1.92738703e-31\n",
      "  -5.00000000e-01  4.18306162e-16  2.31471453e-16 -5.00000000e-01\n",
      "   1.50000000e+00  1.66533454e-16  0.00000000e+00 -5.00000000e-01\n",
      "   5.00000000e-01  5.00000000e-01 -2.31471453e-16  4.18306162e-16\n",
      "   3.53270803e-16  7.07106781e-01  2.28779237e-16  7.07106781e-01\n",
      "   7.07106781e-01 -3.43168855e-16  2.28779237e-16]\n",
      " [ 0.00000000e+00  0.00000000e+00  0.00000000e+00  0.00000000e+00\n",
      "   0.00000000e+00  0.00000000e+00  0.00000000e+00  0.00000000e+00\n",
      "   0.00000000e+00  0.00000000e+00  0.00000000e+00  0.00000000e+00\n",
      "  -1.50000000e+00  1.71690590e-31  3.30997020e-16  5.00000000e-01\n",
      "  -5.00000000e-01  2.60985752e-16 -4.16333634e-16 -5.00000000e-01\n",
      "  -5.00000000e-01  2.60985752e-16  5.00000000e-01 -4.16333634e-16\n",
      "  -5.00000000e-01 -1.55347882e-16  5.00000000e-01 -2.60985752e-16\n",
      "  -1.66533454e-16  8.69257173e-32 -1.66533454e-16  1.34594044e-47\n",
      "   1.00000000e+00 -1.11855716e-17 -1.11022302e-16 -1.55347882e-16\n",
      "  -7.07106781e-01  1.14389618e-16 -2.35513869e-16  7.07106781e-01\n",
      "   3.53270803e-16 -7.07106781e-01 -2.35513869e-16]]\n",
      "[[-2.49800181e-16  0.00000000e+00  0.00000000e+00 -2.49800181e-16\n",
      "   2.50000000e+00  1.00000000e+00  0.00000000e+00  1.50000000e+00\n",
      "   5.00000000e-01  5.00000000e-01 -8.08856749e-17  8.07664867e-18\n",
      "   0.00000000e+00  0.00000000e+00  0.00000000e+00  0.00000000e+00\n",
      "   0.00000000e+00  0.00000000e+00  0.00000000e+00  0.00000000e+00\n",
      "   5.00000000e-01  5.00000000e-01 -8.08856749e-17  1.34701708e-32\n",
      "   0.00000000e+00  0.00000000e+00  0.00000000e+00  0.00000000e+00\n",
      "   5.00000000e-01  5.00000000e-01  0.00000000e+00  8.08856749e-17\n",
      "   8.32667268e-17  8.32667268e-17  0.00000000e+00  1.34701708e-32\n",
      "  -1.17756934e-16  7.07106781e-01  1.90496982e-32  7.07106781e-01\n",
      "   7.07106781e-01 -1.14389618e-16  1.90496982e-32]\n",
      " [-1.66533454e-16  3.72554374e-33  3.72554374e-33  1.66533454e-16\n",
      "   1.00000000e+00 -2.23711432e-17 -2.23711432e-17 -1.00000000e+00\n",
      "   5.38443244e-18 -1.20455909e-34 -1.20455909e-34 -5.38443244e-18\n",
      "   1.59079134e-16  1.86277187e-33 -2.42345860e-16  8.32667268e-17\n",
      "   5.00000000e-01 -1.11855716e-17 -9.71445147e-17 -5.00000000e-01\n",
      "   1.00000000e+00 -5.00000000e-01 -5.00000000e-01  6.93889390e-17\n",
      "   5.00000000e-01  7.20811553e-17 -5.00000000e-01  2.54740945e-32\n",
      "   5.00000000e-01 -5.00000000e-01 -1.83103458e-16 -6.97001033e-17\n",
      "  -5.00000000e-01 -7.20811553e-17  5.00000000e-01  7.20811553e-17\n",
      "   3.46536171e-16  7.07106781e-01 -2.77654622e-32  7.07106781e-01\n",
      "  -7.07106781e-01  1.14389618e-16 -2.77654622e-32]\n",
      " [-8.08856749e-17  4.22200174e-32 -8.08856749e-17  6.53726313e-48\n",
      "   8.35778911e-17 -4.36252775e-32  8.35778911e-17 -6.75485081e-48\n",
      "  -5.00000000e-01  2.60985752e-16 -5.00000000e-01  4.04105124e-32\n",
      "   1.00000000e+00  1.11855716e-17  1.11855716e-17 -1.00000000e+00\n",
      "  -1.59079134e-16  0.00000000e+00  1.67155782e-16  1.59079134e-16\n",
      "  -8.62816615e-32 -1.86973297e-33 -3.18158267e-16  1.67155782e-16\n",
      "  -5.00000000e-01  1.11855716e-17 -5.00000000e-01 -2.60985752e-16\n",
      "   1.67155782e-16 -4.54950105e-32  1.67155782e-16  4.36252775e-32\n",
      "   0.00000000e+00  5.00000000e-01 -5.00000000e-01  9.20712465e-17\n",
      "   7.07106781e-01  2.28779237e-16  1.14389618e-16  7.07106781e-01\n",
      "   7.07106781e-01 -2.35513869e-16  1.14389618e-16]\n",
      " [ 8.32667268e-17  0.00000000e+00 -2.77333912e-32 -8.32667268e-17\n",
      "  -2.45038077e-16  0.00000000e+00  8.16140744e-32  2.45038077e-16\n",
      "   5.00000000e-01  0.00000000e+00 -1.66533454e-16 -5.00000000e-01\n",
      "   8.53366145e-17  8.58452949e-32 -7.66924922e-32 -2.47730293e-16\n",
      "  -2.22044605e-16  0.00000000e+00 -1.00000000e+00  5.78104984e-16\n",
      "   1.66533454e-16  2.60985752e-16 -7.39876334e-16 -1.00000000e+00\n",
      "  -5.00000000e-01 -5.00000000e-01 -2.47730293e-16 -3.41871427e-16\n",
      "  -5.00000000e-01  2.60985752e-16 -5.00000000e-01  4.04105124e-32\n",
      "   5.00000000e-01  4.95149421e-16  6.16297582e-32 -5.00000000e-01\n",
      "   1.17756934e-16  5.82050040e-16 -7.07106781e-01  7.07106781e-01\n",
      "   5.82050040e-16  1.17756934e-16 -7.07106781e-01]\n",
      " [-2.69221622e-18 -2.69221622e-18  4.35523452e-34 -7.25292247e-50\n",
      "   1.00000000e+00  0.00000000e+00 -1.61771350e-16 -1.50585778e-16\n",
      "   5.00000000e-01 -5.00000000e-01  1.50585778e-16 -8.08856749e-17\n",
      "  -2.69221622e-18 -2.69221622e-18  4.35523452e-34 -7.25292247e-50\n",
      "   5.00000000e-01  5.00000000e-01 -8.08856749e-17  1.34701708e-32\n",
      "   5.00000000e-01 -5.00000000e-01  1.50585778e-16 -8.08856749e-17\n",
      "  -8.59589431e-17 -2.69221622e-18  1.34701708e-32  8.32667268e-17\n",
      "   1.00000000e+00 -5.00000000e-01 -1.61771350e-16 -5.00000000e-01\n",
      "  -5.00000000e-01 -5.00000000e-01 -1.39056942e-32 -8.35778911e-17\n",
      "   7.07106781e-01  3.48630560e-32 -1.14389618e-16  7.07106781e-01\n",
      "  -7.07106781e-01  2.28779237e-16 -1.14389618e-16]]\n",
      "[[ 3.50000000e+00 -3.28676399e-14 -2.63120053e-15  5.50000000e+00\n",
      "   4.00000000e+00  1.50000000e+00 -1.65474871e-14 -1.50000000e+00\n",
      "   2.00000000e+00 -2.00000000e+00 -1.00000000e+00 -1.81574515e-14\n",
      "  -1.50000000e+00 -2.20284563e-14 -1.00000000e+00 -5.00000000e-01\n",
      "   1.50000000e+00 -5.00000000e-01 -1.44701453e-14 -1.13093280e-15\n",
      "   1.50000000e+00 -3.05311332e-15  5.00000000e-01 -1.45534120e-14\n",
      "   1.00000000e+00 -2.53898142e-14  5.00000000e-01  4.50000000e+00\n",
      "   3.50000000e+00  5.00000000e-01 -7.46944875e-15 -1.33226763e-15\n",
      "  -1.50000000e+00 -3.50000000e+00 -9.27022207e-16 -2.52280429e-14\n",
      "   7.07106781e-01 -1.39624663e-15 -1.94799083e-15  7.07106781e-01\n",
      "   7.07106781e-01 -4.47456526e-16 -1.94799083e-15]\n",
      " [ 5.00000000e-01  7.73205598e-16 -2.50000000e+00 -2.46548413e-15\n",
      "   3.50000000e+00 -1.00000000e+00  1.45467294e-15  5.00000000e-01\n",
      "  -1.00000000e+00  7.57068666e-16 -1.00000000e+00  3.58999072e-15\n",
      "  -1.50000000e+00 -1.77741224e-15 -5.00000000e-01 -2.01870270e-15\n",
      "   5.00000000e-01  1.66533454e-16  4.20817325e-15 -5.00000000e-01\n",
      "   5.00000000e-01 -1.00000000e+00 -1.50000000e+00  4.54124015e-15\n",
      "   5.00000000e-01  2.90345557e-15 -1.00000000e+00  5.00000000e-01\n",
      "   1.00000000e+00 -1.50000000e+00  1.25300431e-16  5.00000000e-01\n",
      "  -1.25169312e-15  5.00000000e-01  1.50000000e+00  3.06522692e-15\n",
      "  -7.07106781e-01 -1.50726894e-15  2.35513869e-16  7.07106781e-01\n",
      "  -1.24491566e-16  7.07106781e-01  2.35513869e-16]\n",
      " [-2.00000000e+00 -1.31996678e-14  5.00000000e-01 -1.50000000e+00\n",
      "   1.00000000e+00 -2.50000000e+00 -6.93280071e-15 -3.50000000e+00\n",
      "   3.00000000e+00 -2.50000000e+00  5.00000000e-01 -8.38584230e-15\n",
      "  -1.00000000e+00 -1.21287944e-14 -5.00000000e-01  5.00000000e-01\n",
      "   1.00000000e+00  5.00000000e-01 -1.00449590e-14 -2.50000000e+00\n",
      "   1.50000000e+00 -1.00000000e+00  1.50000000e+00 -9.87842554e-15\n",
      "   1.00000000e+00 -9.50040254e-15 -3.05311332e-15  1.59863781e-15\n",
      "   2.50000000e+00 -1.00000000e+00 -7.53173192e-15 -5.00000000e-01\n",
      "  -1.00000000e+00 -6.66133815e-16  1.00000000e+00 -9.50040254e-15\n",
      "  -3.60005435e-16  7.07106781e-01 -9.42055475e-16  7.07106781e-01\n",
      "  -7.07106781e-01  3.36434223e-16 -9.42055475e-16]\n",
      " [ 5.00000000e-01 -6.46532313e-15 -1.00000000e+00 -5.00000000e-01\n",
      "   1.50000000e+00  1.50000000e+00 -3.23125998e-15 -1.00000000e+00\n",
      "  -8.50000000e+00  3.33066907e-16  5.00000000e-01 -7.91894615e-15\n",
      "   4.50000000e+00 -6.72992915e-15 -1.00000000e+00  1.50000000e+00\n",
      "   2.00000000e+00  5.00000000e-01 -6.61029704e-15 -1.50000000e+00\n",
      "   2.00000000e+00  7.77156117e-16  1.00000000e+00 -6.52703032e-15\n",
      "   1.50000000e+00 -7.33713172e-15  1.00000000e+00 -5.00000000e-01\n",
      "   1.50000000e+00 -5.00000000e-01 -2.25130511e-15  1.68014582e-15\n",
      "  -2.00000000e+00 -5.00000000e-01  1.50000000e+00 -7.49890307e-15\n",
      "   7.07106781e-01 -4.74395054e-16 -5.88784672e-16  7.07106781e-01\n",
      "  -7.07106781e-01  1.40298126e-15 -5.88784672e-16]\n",
      " [ 1.50000000e+00 -2.06604385e-14 -1.50000000e+00 -2.00000000e+00\n",
      "  -2.50000000e+00  1.50000000e+00 -2.55491593e-14 -1.00000000e+00\n",
      "   1.50000000e+00  5.00000000e-01  1.22124533e-15 -2.66473524e-14\n",
      "   1.50000000e+00 -1.87654913e-14  5.00000000e-01  1.00000000e+00\n",
      "   2.00000000e+00  5.00000000e-01 -2.18918304e-14 -3.50000000e+00\n",
      "   1.50000000e+00  1.00000000e+00  4.50000000e+00 -2.20583638e-14\n",
      "   1.50000000e+00 -1.69820887e-14  1.00000000e+00 -5.00000000e-01\n",
      "   2.50000000e+00  5.00000000e-01 -1.29343257e-14  0.00000000e+00\n",
      "  -1.50000000e+00 -1.00000000e+00 -5.00000000e-01 -1.72247457e-14\n",
      "  -4.54191158e-16 -7.07106781e-01 -1.99850057e-15  7.07106781e-01\n",
      "  -9.25218895e-16 -7.07106781e-01 -1.99850057e-15]]\n"
     ]
    }
   ],
   "source": [
    "print(np.finfo(float).eps)\n",
    "print(C[0:5])\n",
    "print(C[55:60])\n",
    "print(C[-5:])"
   ]
  },
  {
   "cell_type": "markdown",
   "id": "547a622e",
   "metadata": {},
   "source": [
    "## Estimate error $\\hat{e}$"
   ]
  },
  {
   "cell_type": "code",
   "execution_count": 8,
   "id": "94ab1aa3",
   "metadata": {
    "scrolled": true
   },
   "outputs": [
    {
     "name": "stdout",
     "output_type": "stream",
     "text": [
      "2.875232208712225e-11\n"
     ]
    }
   ],
   "source": [
    "# compute C (pseudo)inverse\n",
    "C_limited = C\n",
    "tol = 1e-15\n",
    "C_limited[np.abs(C_limited.real) < tol] = 0.0\n",
    "#C_limited.imag[abs(C_limited.imag) < tol] = 0.0\n",
    "\n",
    "V, C_eig, WH = np.linalg.svd(C_limited, full_matrices=False)\n",
    "threshold = Nc_tot*np.finfo(float).eps*C_eig.max()\n",
    "print(threshold)\n",
    "\n",
    "inv_diag = [1/lambda_ if np.abs(lambda_) >= threshold else 0 for lambda_ in C_eig]\n",
    "\n",
    "C_inv = WH.conjugate().T @ np.diag(inv_diag) @ V.conjugate().T # right inverse of C\n",
    "\n",
    "# estimate e\n",
    "e = C_inv@(p_noisy-p_true)\n"
   ]
  },
  {
   "cell_type": "code",
   "execution_count": 9,
   "id": "0d80f88e",
   "metadata": {},
   "outputs": [
    {
     "name": "stdout",
     "output_type": "stream",
     "text": [
      "[[ 0.          0.          0.          0.          0.          0.\n",
      "   0.          0.          0.          0.          0.          0.\n",
      "   0.          0.          0.          0.          0.          0.\n",
      "   0.          0.          0.          0.          0.          0.\n",
      "   0.          0.          0.          0.          0.          0.\n",
      "   0.          0.          0.          0.          0.          0.\n",
      "   0.          0.          0.70710678  0.70710678  0.          0.\n",
      "   0.70710678]\n",
      " [ 0.          0.          0.          0.          0.          0.\n",
      "   0.          0.          1.          1.          0.          0.\n",
      "   0.          0.          0.          0.          0.          0.\n",
      "   0.          0.          0.5         0.5         0.          0.\n",
      "   0.          0.          0.         -1.          0.5         0.5\n",
      "   0.          0.          0.          1.          0.          0.\n",
      "   0.          0.70710678  0.          0.70710678  0.70710678  0.\n",
      "   0.        ]\n",
      " [ 0.          0.          0.          0.          0.          0.\n",
      "   0.          0.          0.          0.          0.          1.\n",
      "  -0.5         0.5         0.          0.         -0.5         0.\n",
      "   0.5         0.         -0.5         0.          0.          0.5\n",
      "  -0.5         0.5         0.          0.         -0.5         0.\n",
      "   0.5         0.          0.5         0.          0.          0.5\n",
      "   0.          0.          0.70710678  0.70710678  0.          0.\n",
      "   0.70710678]\n",
      " [ 0.          0.          0.          0.          0.          0.\n",
      "   0.          0.          0.          0.          0.          0.\n",
      "   0.          0.          0.          0.         -0.5         0.5\n",
      "   0.          0.          0.          0.          0.          0.\n",
      "  -0.5         0.          0.         -0.5         1.5         0.\n",
      "   0.         -0.5         0.5         0.5         0.          0.\n",
      "   0.          0.70710678  0.          0.70710678  0.70710678  0.\n",
      "   0.        ]\n",
      " [ 0.          0.          0.          0.          0.          0.\n",
      "   0.          0.          0.          0.          0.          0.\n",
      "  -1.5         0.          0.          0.5        -0.5         0.\n",
      "   0.         -0.5        -0.5         0.          0.5         0.\n",
      "  -0.5         0.          0.5         0.          0.          0.\n",
      "   0.          0.          1.          0.          0.          0.\n",
      "  -0.70710678  0.          0.          0.70710678  0.         -0.70710678\n",
      "   0.        ]]\n",
      "[[ 0.          0.          0.          0.          2.5         1.\n",
      "   0.          1.5         0.5         0.5         0.          0.\n",
      "   0.          0.          0.          0.          0.          0.\n",
      "   0.          0.          0.5         0.5         0.          0.\n",
      "   0.          0.          0.          0.          0.5         0.5\n",
      "   0.          0.          0.          0.          0.          0.\n",
      "   0.          0.70710678  0.          0.70710678  0.70710678  0.\n",
      "   0.        ]\n",
      " [ 0.          0.          0.          0.          1.          0.\n",
      "   0.         -1.          0.          0.          0.          0.\n",
      "   0.          0.          0.          0.          0.5         0.\n",
      "   0.         -0.5         1.         -0.5        -0.5         0.\n",
      "   0.5         0.         -0.5         0.          0.5        -0.5\n",
      "   0.          0.         -0.5         0.          0.5         0.\n",
      "   0.          0.70710678  0.          0.70710678 -0.70710678  0.\n",
      "   0.        ]\n",
      " [ 0.          0.          0.          0.          0.          0.\n",
      "   0.          0.         -0.5         0.         -0.5         0.\n",
      "   1.          0.          0.         -1.          0.          0.\n",
      "   0.          0.          0.          0.          0.          0.\n",
      "  -0.5         0.         -0.5         0.          0.          0.\n",
      "   0.          0.          0.          0.5        -0.5         0.\n",
      "   0.70710678  0.          0.          0.70710678  0.70710678  0.\n",
      "   0.        ]\n",
      " [ 0.          0.          0.          0.          0.          0.\n",
      "   0.          0.          0.5         0.          0.         -0.5\n",
      "   0.          0.          0.          0.          0.          0.\n",
      "  -1.          0.          0.          0.          0.         -1.\n",
      "  -0.5        -0.5         0.          0.         -0.5         0.\n",
      "  -0.5         0.          0.5         0.          0.         -0.5\n",
      "   0.          0.         -0.70710678  0.70710678  0.          0.\n",
      "  -0.70710678]\n",
      " [ 0.          0.          0.          0.          1.          0.\n",
      "   0.          0.          0.5        -0.5         0.          0.\n",
      "   0.          0.          0.          0.          0.5         0.5\n",
      "   0.          0.          0.5        -0.5         0.          0.\n",
      "   0.          0.          0.          0.          1.         -0.5\n",
      "   0.         -0.5        -0.5        -0.5         0.          0.\n",
      "   0.70710678  0.          0.          0.70710678 -0.70710678  0.\n",
      "   0.        ]]\n",
      "[[ 0.5         0.5         0.          0.          0.          0.\n",
      "   0.          0.          0.5         0.          0.          0.5\n",
      "  -1.          1.          0.          0.          0.          0.\n",
      "   0.          0.          0.          0.          0.          0.\n",
      "   0.          1.          0.          0.          0.          0.\n",
      "   0.          0.          0.          0.          0.          1.\n",
      "   0.          0.          0.70710678  0.70710678  0.          0.\n",
      "   0.70710678]\n",
      " [-1.          0.         -0.5         0.5         0.          0.\n",
      "   0.          0.          1.          0.          1.          0.\n",
      "  -0.5         0.         -0.5         0.          0.          0.\n",
      "   0.          0.          0.          0.          0.          0.\n",
      "  -0.5         0.          0.          0.5         0.          0.\n",
      "   0.          0.          0.         -0.5         0.5         0.\n",
      "   0.70710678  0.          0.          0.70710678  0.          0.70710678\n",
      "   0.        ]\n",
      " [ 0.          0.          0.          0.          2.          0.\n",
      "  -2.          0.         -0.5         0.          0.         -0.5\n",
      "   0.          0.          0.          0.          0.5         0.\n",
      "  -0.5         0.          0.5         0.          0.         -0.5\n",
      "   0.          0.          0.          0.          0.5         0.\n",
      "  -0.5         0.          0.          0.          0.          0.\n",
      "   0.          0.         -0.70710678  0.70710678  0.          0.\n",
      "  -0.70710678]\n",
      " [ 0.          0.          0.          0.          0.          0.\n",
      "   0.          0.          0.          0.          0.         -1.\n",
      "   0.          0.          0.          0.          0.          0.\n",
      "  -1.          0.          0.          0.          0.         -1.\n",
      "  -0.5        -0.5         0.          0.          0.          0.\n",
      "   0.          0.          0.5         0.          0.         -0.5\n",
      "   0.          0.         -0.70710678  0.70710678  0.          0.\n",
      "  -0.70710678]\n",
      " [ 0.          0.          0.          0.         -1.         -1.\n",
      "   0.          0.          0.          0.          0.          0.\n",
      "  -0.5         0.          0.         -0.5         0.          0.\n",
      "   0.          0.         -0.5         0.         -0.5         0.\n",
      "  -0.5         0.         -0.5         0.         -1.         -0.5\n",
      "   0.          0.5         0.5         0.5         0.          0.\n",
      "   0.         -0.70710678  0.          0.70710678  0.70710678  0.\n",
      "   0.        ]]\n"
     ]
    }
   ],
   "source": [
    "print(C_limited[0:5])\n",
    "print(C_limited[55:60])\n",
    "print(C_limited[100:105])"
   ]
  },
  {
   "cell_type": "markdown",
   "id": "6cf3714a",
   "metadata": {},
   "source": [
    "Analyze $\\mathbf{C}$ matrix."
   ]
  },
  {
   "cell_type": "code",
   "execution_count": 10,
   "id": "267770f5",
   "metadata": {
    "scrolled": false
   },
   "outputs": [
    {
     "name": "stdout",
     "output_type": "stream",
     "text": [
      "[1.72422033e+02 7.37289268e+01 5.21309087e+01 4.37988984e+01\n",
      " 3.87309692e+01 3.79714531e+01 3.48313309e+01 3.31907392e+01\n",
      " 3.19842024e+01 2.98797747e+01 2.73916329e+01 2.60663232e+01\n",
      " 2.55453041e+01 2.32613020e+01 2.16006338e+01 2.08736813e+01\n",
      " 2.01948566e+01 1.96106279e+01 1.83681746e+01 1.78146745e+01\n",
      " 1.72086861e+01 1.68742397e+01 1.59454836e+01 1.58202726e+01\n",
      " 1.55406158e+01 1.55089522e+01 1.32460426e+01 1.19876900e+01\n",
      " 1.12551817e+01 1.09807898e+01 1.06965295e+01 7.65707645e-14\n",
      " 1.15586931e-14 1.15586931e-14 1.15586931e-14 1.15586931e-14\n",
      " 1.15586931e-14 1.15586931e-14 1.15586931e-14 1.15586931e-14\n",
      " 1.15586931e-14 1.15586931e-14 9.62940522e-15]\n",
      "[0.005799722811723297, 0.01356319755574207, 0.01918247780534524, 0.02283162445812181, 0.025819131855162016, 0.026335573624608893, 0.028709784397005066, 0.03012888605022724, 0.031265435008864605, 0.03346745452530722, 0.0365074985466626, 0.03836367689130447, 0.03914613795844838, 0.042989855045404285, 0.04629493795230917, 0.047907217961646265, 0.04951755878776563, 0.05099275774475647, 0.05444199128161034, 0.05613349822448129, 0.058110189042463234, 0.0592619291334227, 0.06271368284457647, 0.06321003613327303, 0.06434751460949166, 0.06447888865799105, 0.07549424627395579, 0.08341890689040249, 0.08884796597268886, 0.0910681309486712, 0.09348826626326165, 0, 0, 0, 0, 0, 0, 0, 0, 0, 0, 0, 0]\n",
      "[[-3.20411267e-06 -2.82913147e-05  3.69073319e-06  6.79606360e-06\n",
      "   1.32852899e-05  8.22851318e-05 -2.55485644e-04 -5.60497865e-05\n",
      "   4.19904046e-05 -8.28007643e-05  1.20018824e-04 -1.69698506e-04\n",
      "   2.97464236e-05 -3.47452537e-04 -2.48817133e-03 -2.36461747e-03\n",
      "  -9.03225623e-04  2.66573614e-03 -2.28931589e-04  1.52215894e-04\n",
      "   3.60392106e-03  2.58868227e-03  1.98069277e-04 -2.28931589e-04\n",
      "  -3.64804909e-03 -2.11810514e-04 -2.57387147e-03  1.69509162e-04\n",
      "  -1.47528152e-06  2.39018899e-03 -2.07222044e-04 -2.46724286e-03\n",
      "  -8.55339567e-04  1.79890973e-04  2.69742533e-03 -2.11810514e-04\n",
      "   6.36875332e-03  6.37406796e-03 -9.48249904e-03 -1.71365124e-03\n",
      "   7.92499619e-03  7.95011746e-03 -9.48249904e-03]]\n"
     ]
    }
   ],
   "source": [
    "print(C_eig)\n",
    "print(inv_diag)\n",
    "print(e.T)"
   ]
  },
  {
   "cell_type": "markdown",
   "id": "d7cbd70c",
   "metadata": {},
   "source": [
    "Extract noisy maps from $e$."
   ]
  },
  {
   "cell_type": "code",
   "execution_count": 11,
   "id": "a9f7d030",
   "metadata": {},
   "outputs": [],
   "source": [
    "#err_list = []\n",
    "est_noisy_gate_channels = []\n",
    "\n",
    "for i in range(len(native_gate_channels)):\n",
    "    e_i = np.eye(4) + np.vstack(( np.zeros((1,4)), e[i*12:(i+1)*12].reshape(3,4)))\n",
    "    #err_list.append(e_i)\n",
    "    est_noisy_gate_channels.append(e_i@native_gate_channels[i])\n",
    "    \n",
    "rho_est = rho_dirac +  np.vstack( (np.array([0]), e[len(native_gate_channels)*12:len(native_gate_channels)*12+3]) )\n",
    "P0_est = P0_dirac + e[len(native_gate_channels)*12+3:].conjugate().T"
   ]
  },
  {
   "cell_type": "markdown",
   "id": "19a4926f",
   "metadata": {},
   "source": [
    "## Run test-set circuits"
   ]
  },
  {
   "cell_type": "code",
   "execution_count": 12,
   "id": "43b15663",
   "metadata": {},
   "outputs": [
    {
     "name": "stdout",
     "output_type": "stream",
     "text": [
      "[0.0092132568359375, 0.008822265625, 0.0089383544921875, 0.0087176513671875, 0.0088193359375, 0.0107490234375]\n",
      "[0.008930908203125, 0.008708740234375, 0.008784912109375, 0.00886767578125, 0.0087630615234375, 0.0109085693359375]\n",
      "[0.0089921875, 0.0084825439453125, 0.0086995849609375, 0.008883544921875, 0.008714111328125, 0.0108763427734375]\n",
      "[0.008896728515625, 0.008828369140625, 0.0087232666015625, 0.00890380859375, 0.00874267578125, 0.0104710693359375]\n",
      "[0.0090614013671875, 0.00876171875, 0.0089019775390625, 0.00893017578125, 0.00885888671875, 0.0104951171875]\n",
      "[0.0093858642578125, 0.0089898681640625, 0.0085703125, 0.00861181640625, 0.0088848876953125, 0.0106253662109375]\n",
      "[0.0088016357421875, 0.00909912109375, 0.008798828125, 0.0090750732421875, 0.0085245361328125, 0.0102652587890625]\n",
      "[0.0092275390625, 0.0092547607421875, 0.0086810302734375, 0.0088699951171875, 0.008939453125, 0.010517822265625]\n",
      "[0.009130126953125, 0.0087093505859375, 0.008992919921875, 0.008516845703125, 0.0089217529296875, 0.01093603515625]\n",
      "[0.00914697265625, 0.009045654296875, 0.00876611328125, 0.0088043212890625, 0.0087786865234375, 0.010745849609375]\n"
     ]
    }
   ],
   "source": [
    "L_test_list = [10, 50, 100, 200, 500, 1000]\n",
    "Nc_test = 1000\n",
    "\n",
    "Nc_test_tot = len(L_test_list)*Nc_test\n",
    "\n",
    "N_it = 10\n",
    "\n",
    "delta = np.zeros((N_it,len(L_test_list)))\n",
    "\n",
    "for it in range(N_it):\n",
    "    delta_it = []\n",
    "    circuit_test_list = []\n",
    "    for l in range(len(L_test_list)):\n",
    "        circ = [rng.integers(low=0, high= len(native_gate_list), \n",
    "                             size=L_test_list[l]).tolist() for i in range(Nc_test)] \n",
    "\n",
    "        p_test_true_l = np.zeros((Nc_test,1))  # true noisy p\n",
    "        p_test_est_l = np.zeros((Nc_test,1)) # estimated p\n",
    "        j = 0\n",
    "       \n",
    "        for c in circ:\n",
    "            true_gate_list = [noisy_native_gate_channels[gate] for gate in c[::-1] ]\n",
    "            true_gate_list.insert(0,P0_dirac)\n",
    "            true_gate_list.append(rho_dirac)\n",
    "\n",
    "            est_gate_list = [est_noisy_gate_channels[gate] for gate in c[::-1] ]\n",
    "            est_gate_list.insert(0,P0_est)\n",
    "            est_gate_list.append(rho_est)\n",
    "\n",
    "            p_test_true_l[j] = np.round(qu.my_braket(true_gate_list)*Nshots)/Nshots\n",
    "            p_test_est_l[j] = np.round(qu.my_braket(est_gate_list)*Nshots)/Nshots\n",
    "            j+=1 \n",
    "        \n",
    "        delta_it.append(np.linalg.norm((p_test_true_l - p_test_est_l),ord=1)/Nc_test)\n",
    "    print(delta_it)\n",
    "    delta[it] = np.array(delta_it)\n",
    "\n",
    "\n",
    "delta_mean = np.mean(delta,axis=0)\n"
   ]
  },
  {
   "cell_type": "code",
   "execution_count": 13,
   "id": "c79e93c4",
   "metadata": {},
   "outputs": [
    {
     "data": {
      "image/png": "[encoded data removed]",
      "text/plain": [
       "<Figure size 432x288 with 1 Axes>"
      ]
     },
     "metadata": {
      "needs_background": "light"
     },
     "output_type": "display_data"
    }
   ],
   "source": [
    "plt.figure()\n",
    "plt.subplot(211)\n",
    "plt.plot(L_test_list, delta_mean, 'b', lw=1)\n",
    "plt.scatter(L_test_list, delta_mean, s=20)\n",
    "plt.yscale(\"log\")\n",
    "plt.show()"
   ]
  },
  {
   "cell_type": "markdown",
   "id": "0bb8c605",
   "metadata": {},
   "source": [
    "# Standard GST section"
   ]
  },
  {
   "cell_type": "code",
   "execution_count": 14,
   "id": "5b914bbb",
   "metadata": {},
   "outputs": [],
   "source": [
    "import pygsti\n",
    "from pygsti.circuits import Circuit\n",
    "from pygsti.circuits.circuitparser import CircuitParser\n",
    "from pygsti.models import Model\n",
    "from pygsti.data import DataSet\n",
    "from pygsti.modelpacks import smq1Q_XYI\n",
    "import pygsti.modelmembers as mm"
   ]
  },
  {
   "cell_type": "code",
   "execution_count": 15,
   "id": "ae6da4b1",
   "metadata": {},
   "outputs": [],
   "source": [
    "#Initialize an empty Model object\n",
    "#Designate the basis being used for the matrices and vectors below \n",
    "# as the \"Pauli product\" basis of dimension 2 - i.e. the four 2x2 Pauli matrices I,X,Y,Z\n",
    "mdl_noisy = pygsti.models.ExplicitOpModel((0,),'pp')\n",
    "\n",
    "#Populate the Model object with states, effects, gates,\n",
    "# all in the *normalized* Pauli basis: { I/sqrt(2), X/sqrt(2), Y/sqrt(2), Z/sqrt(2) }\n",
    "# where I, X, Y, and Z are the standard Pauli matrices.\n",
    "mdl_noisy['rho0'] = rlgst.flatten(rho_dirac) # noisy init density matrix\n",
    "mdl_noisy['Mdefault'] = mm.povms.UnconstrainedPOVM(\n",
    "    {'0': rlgst.flatten(P0_dirac),   # projector onto [[1, 0], [0, 0]] in Pauli basis\n",
    "     '1': rlgst.flatten(qu.superket(P1)) },# projector onto [[0, 0], [0, 1]] in Pauli basis\n",
    "    evotype='densitymx') # Specify the evolution type when initializing from NumPy arrays.\n",
    "                         # densitymx is the default\n",
    "\n",
    "mdl_noisy['Gi'] = noisy_native_gate_channels[0].tolist() # 4x4 identity matrix, noisy\n",
    "mdl_noisy['Gx'] = noisy_native_gate_channels[1].tolist() # pi/2 X-rotation in Pauli basis, noisy\n",
    "mdl_noisy['Gy'] = noisy_native_gate_channels[2].tolist() # pi/2 Y-rotation in Pauli basis, noisy"
   ]
  },
  {
   "cell_type": "code",
   "execution_count": 26,
   "id": "7ef4ce2e",
   "metadata": {},
   "outputs": [
    {
     "name": "stdout",
     "output_type": "stream",
     "text": [
      "[0.7071067811865475, 0.009999999999999998, 0.009999999999999998, 0.6971067811865475]\n"
     ]
    }
   ],
   "source": [
    "print(rlgst.flatten(rho_dirac))\n"
   ]
  },
  {
   "cell_type": "code",
   "execution_count": 19,
   "id": "c2daa3ad",
   "metadata": {},
   "outputs": [],
   "source": [
    "# 1) get the target Model\n",
    "mdl_ideal = smq1Q_XYI.target_model()\n",
    "\n",
    "\n",
    "# 2) get the building blocks needed to specify which circuits are needed\n",
    "prep_fiducials, meas_fiducials = smq1Q_XYI.prep_fiducials(), smq1Q_XYI.meas_fiducials()\n",
    "germs = smq1Q_XYI.germs()\n",
    "\n",
    "maxLengths = [1,2,4]\n",
    "lsgst_lists = pygsti.circuits.create_lsgst_circuit_lists(mdl_ideal, prep_fiducials, meas_fiducials, germs, maxLengths)\n",
    "\n",
    "listOfExperiments = pygsti.circuits.create_lsgst_circuits(mdl_ideal, prep_fiducials, meas_fiducials, germs, maxLengths)\n"
   ]
  },
  {
   "cell_type": "code",
   "execution_count": 20,
   "id": "61c95c97",
   "metadata": {},
   "outputs": [
    {
     "ename": "KeyError",
     "evalue": "'Cannot create operator for label `Gxpi2:0` from factories. Maybe you forgot the args?'",
     "output_type": "error",
     "traceback": [
      "\u001b[0;31m---------------------------------------------------------------------------\u001b[0m",
      "\u001b[0;31mKeyError\u001b[0m                                  Traceback (most recent call last)",
      "\u001b[0;32m/tmp/ipykernel_30503/3000880999.py\u001b[0m in \u001b[0;36m<module>\u001b[0;34m\u001b[0m\n\u001b[1;32m      1\u001b[0m ds = pygsti.data.simulate_data(mdl_noisy, listOfExperiments, num_samples=8192,\n\u001b[0;32m----> 2\u001b[0;31m                                             sample_error=\"binomial\", seed=2703)\n\u001b[0m",
      "\u001b[0;32m~/Scrivania/Quantum/Projects/sparseGST/sparsegst_venv/pyGSTi/pygsti/data/datasetconstruction.py\u001b[0m in \u001b[0;36msimulate_data\u001b[0;34m(model_or_dataset, circuit_list, num_samples, sample_error, seed, rand_state, alias_dict, collision_action, record_zero_counts, comm, mem_limit, times)\u001b[0m\n\u001b[1;32m    142\u001b[0m         \u001b[0;32melse\u001b[0m\u001b[0;34m:\u001b[0m\u001b[0;34m\u001b[0m\u001b[0;34m\u001b[0m\u001b[0m\n\u001b[1;32m    143\u001b[0m             \u001b[0mtrans_circuit_list\u001b[0m \u001b[0;34m=\u001b[0m \u001b[0mcircuit_list\u001b[0m\u001b[0;34m\u001b[0m\u001b[0;34m\u001b[0m\u001b[0m\n\u001b[0;32m--> 144\u001b[0;31m         \u001b[0mall_probs\u001b[0m \u001b[0;34m=\u001b[0m \u001b[0mgsGen\u001b[0m\u001b[0;34m.\u001b[0m\u001b[0mbulk_probabilities\u001b[0m\u001b[0;34m(\u001b[0m\u001b[0mtrans_circuit_list\u001b[0m\u001b[0;34m,\u001b[0m \u001b[0mcomm\u001b[0m\u001b[0;34m=\u001b[0m\u001b[0mcomm\u001b[0m\u001b[0;34m,\u001b[0m \u001b[0mmem_limit\u001b[0m\u001b[0;34m=\u001b[0m\u001b[0mmem_limit\u001b[0m\u001b[0;34m)\u001b[0m\u001b[0;34m\u001b[0m\u001b[0;34m\u001b[0m\u001b[0m\n\u001b[0m\u001b[1;32m    145\u001b[0m     \u001b[0;32melse\u001b[0m\u001b[0;34m:\u001b[0m\u001b[0;34m\u001b[0m\u001b[0;34m\u001b[0m\u001b[0m\n\u001b[1;32m    146\u001b[0m         \u001b[0mtrans_circuit_list\u001b[0m \u001b[0;34m=\u001b[0m \u001b[0mcircuit_list\u001b[0m\u001b[0;34m\u001b[0m\u001b[0;34m\u001b[0m\u001b[0m\n",
      "\u001b[0;32m~/Scrivania/Quantum/Projects/sparseGST/sparsegst_venv/pyGSTi/pygsti/models/model.py\u001b[0m in \u001b[0;36mbulk_probabilities\u001b[0;34m(self, circuits, clip_to, comm, mem_limit, smartc)\u001b[0m\n\u001b[1;32m   1569\u001b[0m         \"\"\"\n\u001b[1;32m   1570\u001b[0m         \u001b[0mresource_alloc\u001b[0m \u001b[0;34m=\u001b[0m \u001b[0m_ResourceAllocation\u001b[0m\u001b[0;34m(\u001b[0m\u001b[0mcomm\u001b[0m\u001b[0;34m,\u001b[0m \u001b[0mmem_limit\u001b[0m\u001b[0;34m)\u001b[0m\u001b[0;34m\u001b[0m\u001b[0;34m\u001b[0m\u001b[0m\n\u001b[0;32m-> 1571\u001b[0;31m         \u001b[0;32mreturn\u001b[0m \u001b[0mself\u001b[0m\u001b[0;34m.\u001b[0m\u001b[0msim\u001b[0m\u001b[0;34m.\u001b[0m\u001b[0mbulk_probs\u001b[0m\u001b[0;34m(\u001b[0m\u001b[0mcircuits\u001b[0m\u001b[0;34m,\u001b[0m \u001b[0mclip_to\u001b[0m\u001b[0;34m,\u001b[0m \u001b[0mresource_alloc\u001b[0m\u001b[0;34m,\u001b[0m \u001b[0msmartc\u001b[0m\u001b[0;34m)\u001b[0m\u001b[0;34m\u001b[0m\u001b[0;34m\u001b[0m\u001b[0m\n\u001b[0m\u001b[1;32m   1572\u001b[0m \u001b[0;34m\u001b[0m\u001b[0m\n\u001b[1;32m   1573\u001b[0m     \u001b[0;32mdef\u001b[0m \u001b[0m_init_copy\u001b[0m\u001b[0;34m(\u001b[0m\u001b[0mself\u001b[0m\u001b[0;34m,\u001b[0m \u001b[0mcopy_into\u001b[0m\u001b[0;34m,\u001b[0m \u001b[0mmemo\u001b[0m\u001b[0;34m)\u001b[0m\u001b[0;34m:\u001b[0m\u001b[0;34m\u001b[0m\u001b[0;34m\u001b[0m\u001b[0m\n",
      "\u001b[0;32m~/Scrivania/Quantum/Projects/sparseGST/sparsegst_venv/pyGSTi/pygsti/forwardsims/forwardsim.py\u001b[0m in \u001b[0;36mbulk_probs\u001b[0;34m(self, circuits, clip_to, resource_alloc, smartc)\u001b[0m\n\u001b[1;32m    420\u001b[0m                 \u001b[0msmartc\u001b[0m\u001b[0;34m.\u001b[0m\u001b[0mcached_compute\u001b[0m\u001b[0;34m(\u001b[0m\u001b[0mself\u001b[0m\u001b[0;34m.\u001b[0m\u001b[0mbulk_fill_probs\u001b[0m\u001b[0;34m,\u001b[0m \u001b[0mlocal_vp\u001b[0m\u001b[0;34m,\u001b[0m \u001b[0mcopa_layout\u001b[0m\u001b[0;34m,\u001b[0m \u001b[0m_filledarrays\u001b[0m\u001b[0;34m=\u001b[0m\u001b[0;34m(\u001b[0m\u001b[0;36m0\u001b[0m\u001b[0;34m,\u001b[0m\u001b[0;34m)\u001b[0m\u001b[0;34m)\u001b[0m\u001b[0;34m\u001b[0m\u001b[0;34m\u001b[0m\u001b[0m\n\u001b[1;32m    421\u001b[0m             \u001b[0;32melse\u001b[0m\u001b[0;34m:\u001b[0m\u001b[0;34m\u001b[0m\u001b[0;34m\u001b[0m\u001b[0m\n\u001b[0;32m--> 422\u001b[0;31m                 \u001b[0mself\u001b[0m\u001b[0;34m.\u001b[0m\u001b[0mbulk_fill_probs\u001b[0m\u001b[0;34m(\u001b[0m\u001b[0mlocal_vp\u001b[0m\u001b[0;34m,\u001b[0m \u001b[0mcopa_layout\u001b[0m\u001b[0;34m)\u001b[0m\u001b[0;34m\u001b[0m\u001b[0;34m\u001b[0m\u001b[0m\n\u001b[0m\u001b[1;32m    423\u001b[0m             \u001b[0mvp\u001b[0m \u001b[0;34m=\u001b[0m \u001b[0mcopa_layout\u001b[0m\u001b[0;34m.\u001b[0m\u001b[0mgather_local_array\u001b[0m\u001b[0;34m(\u001b[0m\u001b[0;34m'e'\u001b[0m\u001b[0;34m,\u001b[0m \u001b[0mlocal_vp\u001b[0m\u001b[0;34m)\u001b[0m  \u001b[0;31m# gather data onto rank-0 processor\u001b[0m\u001b[0;34m\u001b[0m\u001b[0;34m\u001b[0m\u001b[0m\n\u001b[1;32m    424\u001b[0m             \u001b[0mcopa_layout\u001b[0m\u001b[0;34m.\u001b[0m\u001b[0mfree_local_array\u001b[0m\u001b[0;34m(\u001b[0m\u001b[0mlocal_vp\u001b[0m\u001b[0;34m)\u001b[0m\u001b[0;34m\u001b[0m\u001b[0;34m\u001b[0m\u001b[0m\n",
      "\u001b[0;32m~/Scrivania/Quantum/Projects/sparseGST/sparsegst_venv/pyGSTi/pygsti/forwardsims/forwardsim.py\u001b[0m in \u001b[0;36mbulk_fill_probs\u001b[0;34m(self, array_to_fill, layout)\u001b[0m\n\u001b[1;32m    554\u001b[0m         \u001b[0;32mNone\u001b[0m\u001b[0;34m\u001b[0m\u001b[0;34m\u001b[0m\u001b[0m\n\u001b[1;32m    555\u001b[0m         \"\"\"\n\u001b[0;32m--> 556\u001b[0;31m         \u001b[0;32mreturn\u001b[0m \u001b[0mself\u001b[0m\u001b[0;34m.\u001b[0m\u001b[0m_bulk_fill_probs\u001b[0m\u001b[0;34m(\u001b[0m\u001b[0marray_to_fill\u001b[0m\u001b[0;34m,\u001b[0m \u001b[0mlayout\u001b[0m\u001b[0;34m)\u001b[0m\u001b[0;34m\u001b[0m\u001b[0;34m\u001b[0m\u001b[0m\n\u001b[0m\u001b[1;32m    557\u001b[0m \u001b[0;34m\u001b[0m\u001b[0m\n\u001b[1;32m    558\u001b[0m     \u001b[0;32mdef\u001b[0m \u001b[0m_bulk_fill_probs\u001b[0m\u001b[0;34m(\u001b[0m\u001b[0mself\u001b[0m\u001b[0;34m,\u001b[0m \u001b[0marray_to_fill\u001b[0m\u001b[0;34m,\u001b[0m \u001b[0mlayout\u001b[0m\u001b[0;34m)\u001b[0m\u001b[0;34m:\u001b[0m\u001b[0;34m\u001b[0m\u001b[0;34m\u001b[0m\u001b[0m\n",
      "\u001b[0;32m~/Scrivania/Quantum/Projects/sparseGST/sparsegst_venv/pyGSTi/pygsti/forwardsims/distforwardsim.py\u001b[0m in \u001b[0;36m_bulk_fill_probs\u001b[0;34m(self, array_to_fill, layout)\u001b[0m\n\u001b[1;32m     97\u001b[0m \u001b[0;34m\u001b[0m\u001b[0m\n\u001b[1;32m     98\u001b[0m         \u001b[0;32mfor\u001b[0m \u001b[0matom\u001b[0m \u001b[0;32min\u001b[0m \u001b[0mlayout\u001b[0m\u001b[0;34m.\u001b[0m\u001b[0matoms\u001b[0m\u001b[0;34m:\u001b[0m  \u001b[0;31m# layout only holds local atoms\u001b[0m\u001b[0;34m\u001b[0m\u001b[0;34m\u001b[0m\u001b[0m\n\u001b[0;32m---> 99\u001b[0;31m             \u001b[0mself\u001b[0m\u001b[0;34m.\u001b[0m\u001b[0m_bulk_fill_probs_atom\u001b[0m\u001b[0;34m(\u001b[0m\u001b[0marray_to_fill\u001b[0m\u001b[0;34m[\u001b[0m\u001b[0matom\u001b[0m\u001b[0;34m.\u001b[0m\u001b[0melement_slice\u001b[0m\u001b[0;34m]\u001b[0m\u001b[0;34m,\u001b[0m \u001b[0matom\u001b[0m\u001b[0;34m,\u001b[0m \u001b[0matom_resource_alloc\u001b[0m\u001b[0;34m)\u001b[0m\u001b[0;34m\u001b[0m\u001b[0;34m\u001b[0m\u001b[0m\n\u001b[0m\u001b[1;32m    100\u001b[0m \u001b[0;34m\u001b[0m\u001b[0m\n\u001b[1;32m    101\u001b[0m         \u001b[0matom_resource_alloc\u001b[0m\u001b[0;34m.\u001b[0m\u001b[0mhost_comm_barrier\u001b[0m\u001b[0;34m(\u001b[0m\u001b[0;34m)\u001b[0m  \u001b[0;31m# don't exit until all procs' array_to_fill is ready\u001b[0m\u001b[0;34m\u001b[0m\u001b[0;34m\u001b[0m\u001b[0m\n",
      "\u001b[0;32m~/Scrivania/Quantum/Projects/sparseGST/sparsegst_venv/pyGSTi/pygsti/forwardsims/matrixforwardsim.py\u001b[0m in \u001b[0;36m_bulk_fill_probs_atom\u001b[0;34m(self, array_to_fill, layout_atom, resource_alloc)\u001b[0m\n\u001b[1;32m   1360\u001b[0m \u001b[0;34m\u001b[0m\u001b[0m\n\u001b[1;32m   1361\u001b[0m         \u001b[0;31m#Fill cache info\u001b[0m\u001b[0;34m\u001b[0m\u001b[0;34m\u001b[0m\u001b[0;34m\u001b[0m\u001b[0m\n\u001b[0;32m-> 1362\u001b[0;31m         \u001b[0mprodCache\u001b[0m\u001b[0;34m,\u001b[0m \u001b[0mscaleCache\u001b[0m \u001b[0;34m=\u001b[0m \u001b[0mself\u001b[0m\u001b[0;34m.\u001b[0m\u001b[0m_compute_product_cache\u001b[0m\u001b[0;34m(\u001b[0m\u001b[0mlayout_atom\u001b[0m\u001b[0;34m.\u001b[0m\u001b[0mtree\u001b[0m\u001b[0;34m,\u001b[0m \u001b[0mresource_alloc\u001b[0m\u001b[0;34m)\u001b[0m\u001b[0;34m\u001b[0m\u001b[0;34m\u001b[0m\u001b[0m\n\u001b[0m\u001b[1;32m   1363\u001b[0m \u001b[0;34m\u001b[0m\u001b[0m\n\u001b[1;32m   1364\u001b[0m         \u001b[0;32mif\u001b[0m \u001b[0;32mnot\u001b[0m \u001b[0mresource_alloc\u001b[0m\u001b[0;34m.\u001b[0m\u001b[0mis_host_leader\u001b[0m\u001b[0;34m:\u001b[0m\u001b[0;34m\u001b[0m\u001b[0;34m\u001b[0m\u001b[0m\n",
      "\u001b[0;32m~/Scrivania/Quantum/Projects/sparseGST/sparsegst_venv/pyGSTi/pygsti/forwardsims/matrixforwardsim.py\u001b[0m in \u001b[0;36m_compute_product_cache\u001b[0;34m(self, layout_atom_tree, resource_alloc)\u001b[0m\n\u001b[1;32m    721\u001b[0m                     \u001b[0;31m# Note: scaleCache[i] = 0.0 from initialization\u001b[0m\u001b[0;34m\u001b[0m\u001b[0;34m\u001b[0m\u001b[0;34m\u001b[0m\u001b[0m\n\u001b[1;32m    722\u001b[0m                 \u001b[0;32melse\u001b[0m\u001b[0;34m:\u001b[0m\u001b[0;34m\u001b[0m\u001b[0;34m\u001b[0m\u001b[0m\n\u001b[0;32m--> 723\u001b[0;31m                     \u001b[0mgate\u001b[0m \u001b[0;34m=\u001b[0m \u001b[0mself\u001b[0m\u001b[0;34m.\u001b[0m\u001b[0mmodel\u001b[0m\u001b[0;34m.\u001b[0m\u001b[0mcircuit_layer_operator\u001b[0m\u001b[0;34m(\u001b[0m\u001b[0mopLabel\u001b[0m\u001b[0;34m,\u001b[0m \u001b[0;34m'op'\u001b[0m\u001b[0;34m)\u001b[0m\u001b[0;34m.\u001b[0m\u001b[0mto_dense\u001b[0m\u001b[0;34m(\u001b[0m\u001b[0mon_space\u001b[0m\u001b[0;34m=\u001b[0m\u001b[0;34m'minimal'\u001b[0m\u001b[0;34m)\u001b[0m\u001b[0;34m\u001b[0m\u001b[0;34m\u001b[0m\u001b[0m\n\u001b[0m\u001b[1;32m    724\u001b[0m                     \u001b[0mnG\u001b[0m \u001b[0;34m=\u001b[0m \u001b[0mmax\u001b[0m\u001b[0;34m(\u001b[0m\u001b[0m_nla\u001b[0m\u001b[0;34m.\u001b[0m\u001b[0mnorm\u001b[0m\u001b[0;34m(\u001b[0m\u001b[0mgate\u001b[0m\u001b[0;34m)\u001b[0m\u001b[0;34m,\u001b[0m \u001b[0;36m1.0\u001b[0m\u001b[0;34m)\u001b[0m\u001b[0;34m\u001b[0m\u001b[0;34m\u001b[0m\u001b[0m\n\u001b[1;32m    725\u001b[0m                     \u001b[0mprodCache\u001b[0m\u001b[0;34m[\u001b[0m\u001b[0miDest\u001b[0m\u001b[0;34m]\u001b[0m \u001b[0;34m=\u001b[0m \u001b[0mgate\u001b[0m \u001b[0;34m/\u001b[0m \u001b[0mnG\u001b[0m\u001b[0;34m\u001b[0m\u001b[0;34m\u001b[0m\u001b[0m\n",
      "\u001b[0;32m~/Scrivania/Quantum/Projects/sparseGST/sparsegst_venv/pyGSTi/pygsti/models/model.py\u001b[0m in \u001b[0;36mcircuit_layer_operator\u001b[0;34m(self, layerlbl, typ)\u001b[0m\n\u001b[1;32m   1467\u001b[0m         \"\"\"\n\u001b[1;32m   1468\u001b[0m         \u001b[0mself\u001b[0m\u001b[0;34m.\u001b[0m\u001b[0m_clean_paramvec\u001b[0m\u001b[0;34m(\u001b[0m\u001b[0;34m)\u001b[0m\u001b[0;34m\u001b[0m\u001b[0;34m\u001b[0m\u001b[0m\n\u001b[0;32m-> 1469\u001b[0;31m         \u001b[0;32mreturn\u001b[0m \u001b[0mself\u001b[0m\u001b[0;34m.\u001b[0m\u001b[0m_circuit_layer_operator\u001b[0m\u001b[0;34m(\u001b[0m\u001b[0mlayerlbl\u001b[0m\u001b[0;34m,\u001b[0m \u001b[0mtyp\u001b[0m\u001b[0;34m)\u001b[0m\u001b[0;34m\u001b[0m\u001b[0;34m\u001b[0m\u001b[0m\n\u001b[0m\u001b[1;32m   1470\u001b[0m \u001b[0;34m\u001b[0m\u001b[0m\n\u001b[1;32m   1471\u001b[0m     \u001b[0;32mdef\u001b[0m \u001b[0m_circuit_layer_operator\u001b[0m\u001b[0;34m(\u001b[0m\u001b[0mself\u001b[0m\u001b[0;34m,\u001b[0m \u001b[0mlayerlbl\u001b[0m\u001b[0;34m,\u001b[0m \u001b[0mtyp\u001b[0m\u001b[0;34m)\u001b[0m\u001b[0;34m:\u001b[0m\u001b[0;34m\u001b[0m\u001b[0;34m\u001b[0m\u001b[0m\n",
      "\u001b[0;32m~/Scrivania/Quantum/Projects/sparseGST/sparsegst_venv/pyGSTi/pygsti/models/model.py\u001b[0m in \u001b[0;36m_circuit_layer_operator\u001b[0;34m(self, layerlbl, typ)\u001b[0m\n\u001b[1;32m   1482\u001b[0m             \u001b[0;32mraise\u001b[0m \u001b[0mValueError\u001b[0m\u001b[0;34m(\u001b[0m\u001b[0;34m\"Cannot create operator for non-primitive circuit layer: %s\"\u001b[0m \u001b[0;34m%\u001b[0m \u001b[0mstr\u001b[0m\u001b[0;34m(\u001b[0m\u001b[0mlayerlbl\u001b[0m\u001b[0;34m)\u001b[0m\u001b[0;34m)\u001b[0m\u001b[0;34m\u001b[0m\u001b[0;34m\u001b[0m\u001b[0m\n\u001b[1;32m   1483\u001b[0m         \u001b[0;32melse\u001b[0m\u001b[0;34m:\u001b[0m\u001b[0;34m\u001b[0m\u001b[0;34m\u001b[0m\u001b[0m\n\u001b[0;32m-> 1484\u001b[0;31m             \u001b[0;32mreturn\u001b[0m \u001b[0mfns\u001b[0m\u001b[0;34m[\u001b[0m\u001b[0mtyp\u001b[0m\u001b[0;34m]\u001b[0m\u001b[0;34m(\u001b[0m\u001b[0mself\u001b[0m\u001b[0;34m,\u001b[0m \u001b[0mlayerlbl\u001b[0m\u001b[0;34m,\u001b[0m \u001b[0mself\u001b[0m\u001b[0;34m.\u001b[0m\u001b[0m_opcaches\u001b[0m\u001b[0;34m)\u001b[0m\u001b[0;34m\u001b[0m\u001b[0;34m\u001b[0m\u001b[0m\n\u001b[0m\u001b[1;32m   1485\u001b[0m \u001b[0;34m\u001b[0m\u001b[0m\n\u001b[1;32m   1486\u001b[0m     \u001b[0;32mdef\u001b[0m \u001b[0mcircuit_operator\u001b[0m\u001b[0;34m(\u001b[0m\u001b[0mself\u001b[0m\u001b[0;34m,\u001b[0m \u001b[0mcircuit\u001b[0m\u001b[0;34m)\u001b[0m\u001b[0;34m:\u001b[0m\u001b[0;34m\u001b[0m\u001b[0;34m\u001b[0m\u001b[0m\n",
      "\u001b[0;32m~/Scrivania/Quantum/Projects/sparseGST/sparsegst_venv/pyGSTi/pygsti/models/explicitmodel.py\u001b[0m in \u001b[0;36moperation_layer_operator\u001b[0;34m(self, model, layerlbl, caches)\u001b[0m\n\u001b[1;32m   1973\u001b[0m             \u001b[0;32mreturn\u001b[0m \u001b[0mmodel\u001b[0m\u001b[0;34m.\u001b[0m\u001b[0moperations\u001b[0m\u001b[0;34m[\u001b[0m\u001b[0mlayerlbl\u001b[0m\u001b[0;34m]\u001b[0m\u001b[0;34m\u001b[0m\u001b[0;34m\u001b[0m\u001b[0m\n\u001b[1;32m   1974\u001b[0m         \u001b[0;32melse\u001b[0m\u001b[0;34m:\u001b[0m\u001b[0;34m\u001b[0m\u001b[0;34m\u001b[0m\u001b[0m\n\u001b[0;32m-> 1975\u001b[0;31m             \u001b[0;32mreturn\u001b[0m \u001b[0m_opfactory\u001b[0m\u001b[0;34m.\u001b[0m\u001b[0mop_from_factories\u001b[0m\u001b[0;34m(\u001b[0m\u001b[0mmodel\u001b[0m\u001b[0;34m.\u001b[0m\u001b[0mfactories\u001b[0m\u001b[0;34m,\u001b[0m \u001b[0mlayerlbl\u001b[0m\u001b[0;34m)\u001b[0m\u001b[0;34m\u001b[0m\u001b[0;34m\u001b[0m\u001b[0m\n\u001b[0m",
      "\u001b[0;32m~/Scrivania/Quantum/Projects/sparseGST/sparsegst_venv/pyGSTi/pygsti/modelmembers/operations/opfactory.py\u001b[0m in \u001b[0;36mop_from_factories\u001b[0;34m(factory_dict, lbl)\u001b[0m\n\u001b[1;32m     66\u001b[0m \u001b[0;34m\u001b[0m\u001b[0m\n\u001b[1;32m     67\u001b[0m     \u001b[0mextra\u001b[0m \u001b[0;34m=\u001b[0m \u001b[0;34m\". Maybe you forgot the args?\"\u001b[0m \u001b[0;32mif\u001b[0m \u001b[0;32mnot\u001b[0m \u001b[0mlbl_args\u001b[0m \u001b[0;32melse\u001b[0m \u001b[0;34m\"\"\u001b[0m\u001b[0;34m\u001b[0m\u001b[0;34m\u001b[0m\u001b[0m\n\u001b[0;32m---> 68\u001b[0;31m     \u001b[0;32mraise\u001b[0m \u001b[0mKeyError\u001b[0m\u001b[0;34m(\u001b[0m\u001b[0;34m\"Cannot create operator for label `%s` from factories%s\"\u001b[0m \u001b[0;34m%\u001b[0m \u001b[0;34m(\u001b[0m\u001b[0mstr\u001b[0m\u001b[0;34m(\u001b[0m\u001b[0mlbl\u001b[0m\u001b[0;34m)\u001b[0m\u001b[0;34m,\u001b[0m \u001b[0mextra\u001b[0m\u001b[0;34m)\u001b[0m\u001b[0;34m)\u001b[0m\u001b[0;34m\u001b[0m\u001b[0;34m\u001b[0m\u001b[0m\n\u001b[0m\u001b[1;32m     69\u001b[0m \u001b[0;34m\u001b[0m\u001b[0m\n\u001b[1;32m     70\u001b[0m \u001b[0;34m\u001b[0m\u001b[0m\n",
      "\u001b[0;31mKeyError\u001b[0m: 'Cannot create operator for label `Gxpi2:0` from factories. Maybe you forgot the args?'"
     ]
    }
   ],
   "source": [
    "ds = pygsti.data.simulate_data(mdl_noisy, listOfExperiments, num_samples=8192,\n",
    "                                            sample_error=\"binomial\", seed=2703)"
   ]
  },
  {
   "cell_type": "code",
   "execution_count": null,
   "id": "087855be",
   "metadata": {},
   "outputs": [],
   "source": [
    "def convert_circuit(gst_c, germ_list):\n",
    "    # I am assuming first 3 element of the germ list are the native gates (can I ???)\n",
    "    my_c = [] \n",
    "    for i in range(len(c)):\n",
    "        if c[i] == germ_list[0][0]:\n",
    "            my_c += [0]\n",
    "        elif c[i] == germ_list[1][0]:\n",
    "            my_c += [1]\n",
    "        elif c[i] == germ_list[2][0]:\n",
    "            my_c += [2]\n",
    "        else:\n",
    "            my_c += [-1] # error flag\n",
    "    \n",
    "    return(my_c)\n",
    "\n",
    "def build_gst_experiment_list(lsgst_lists,germs):\n",
    "    circuit_lists = []\n",
    "    label_lists = []\n",
    "    for i,lst in enumerate(lsgst_lists):\n",
    "        circuit_lists.append([convert_circuit(c,germs) for c in lst])"
   ]
  },
  {
   "cell_type": "code",
   "execution_count": null,
   "id": "89143523",
   "metadata": {},
   "outputs": [],
   "source": []
  },
  {
   "cell_type": "code",
   "execution_count": null,
   "id": "d9ecbb11",
   "metadata": {},
   "outputs": [],
   "source": [
    "\n",
    "for i,lst in enumerate(lsgst_lists):\n",
    "    print(\"\\nList %d (max-length L=%d): %d Circuits\" % (i,maxLengths[i],len(lst)))\n",
    "    #print('\\n'.join([c.str for c in lst]))\n",
    "    for c in lst:\n",
    "        print(c)\n",
    "        print(convert_circuit(c,germs ) )\n"
   ]
  },
  {
   "cell_type": "code",
   "execution_count": null,
   "id": "04c33c20",
   "metadata": {},
   "outputs": [],
   "source": [
    "#exp_design = pygsti.protocols.StandardGSTDesign(mdl_ideal, prep_fiducials, meas_fiducials,\n",
    "#                                                germs, maxLengths)\n",
    "\n",
    "\n",
    "# 3) generate data\n",
    "#listOfExperiments = pygsti.circuits.create_lsgst_circuits(\n",
    "#    mdl_ideal, prep_fiducials, meas_fiducials, germs, maxLengths)\n",
    "\n",
    "#Note: from listOfExperiments we can also create an empty dataset file\n",
    "# which has columns of zeros where actual data should go. \n",
    "#pygsti.io.write_empty_dataset(\"../data/test_dataset.txt\", listOfExperiments,\n",
    "#                              \"## Columns = 0 count, 1 count\")\n",
    "\n",
    "# After replacing the zeros with actual data, the data set can be \n",
    "# loaded back into pyGSTi using the line below and used in the rest\n",
    "# of this tutorial. \n",
    "#ds = pygsti.io.load_dataset(\"tutorial_files/GettingStartedDataTemplate.txt\")"
   ]
  }
 ],
 "metadata": {
  "kernelspec": {
   "display_name": "Python 3 (ipykernel)",
   "language": "python",
   "name": "python3"
  },
  "language_info": {
   "codemirror_mode": {
    "name": "ipython",
    "version": 3
   },
   "file_extension": ".py",
   "mimetype": "text/x-python",
   "name": "python",
   "nbconvert_exporter": "python",
   "pygments_lexer": "ipython3",
   "version": "3.7.4"
  }
 },
 "nbformat": 4,
 "nbformat_minor": 5
}
