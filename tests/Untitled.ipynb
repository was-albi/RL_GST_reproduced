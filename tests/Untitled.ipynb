{
 "cells": [
  {
   "cell_type": "code",
   "execution_count": 2,
   "id": "37b4deb3",
   "metadata": {},
   "outputs": [],
   "source": [
    "import pygsti\n",
    "\n",
    "from pygsti.circuits.circuitparser import CircuitParser"
   ]
  },
  {
   "cell_type": "code",
   "execution_count": 15,
   "id": "d42043aa",
   "metadata": {},
   "outputs": [
    {
     "name": "stdout",
     "output_type": "stream",
     "text": [
      "((Label(('Gxpi2', 0)), Label(('Gxpi2', 0)), CircuitLabel('',(Label(()),),None,1,0.0), Label(('Gypi2', 0))), ('0)  0  0',), None, None)\n",
      "Gxpi2:0\n",
      "False\n"
     ]
    }
   ],
   "source": [
    "cstr = 'Gxpi2:0Gxpi2:0([])Gypi2:0@(0)  0  0'\n",
    "cp = CircuitParser()\n",
    "parsedc = cp._parse(cstr)\n",
    "print(parsedc)\n",
    "print(parsedc[0][0])\n",
    "print(parsedc[0][0] == 'Gxpi2:0')"
   ]
  }
 ],
 "metadata": {
  "kernelspec": {
   "display_name": "Python 3 (ipykernel)",
   "language": "python",
   "name": "python3"
  },
  "language_info": {
   "codemirror_mode": {
    "name": "ipython",
    "version": 3
   },
   "file_extension": ".py",
   "mimetype": "text/x-python",
   "name": "python",
   "nbconvert_exporter": "python",
   "pygments_lexer": "ipython3",
   "version": "3.7.4"
  }
 },
 "nbformat": 4,
 "nbformat_minor": 5
}
