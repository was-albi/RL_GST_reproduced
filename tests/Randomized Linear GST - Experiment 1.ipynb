{
 "cells": [
  {
   "cell_type": "markdown",
   "id": "626be1c4",
   "metadata": {},
   "source": [
    "# Notebook for the reproduction of results in [Randomized Linear Gate Set Tomography](https://journals.aps.org/prxquantum/pdf/10.1103/PRXQuantum.2.030328)."
   ]
  },
  {
   "cell_type": "code",
   "execution_count": 1,
   "id": "bb6c928c",
   "metadata": {},
   "outputs": [],
   "source": [
    "import numpy as np\n",
    "import matplotlib.pyplot as plt\n",
    "\n",
    "# Import my own modules\n",
    "from src import quantum_utilities as qu\n",
    "from src import randomized_linear_gst as rlgst\n",
    "\n",
    "# Import Qiskit basics\n",
    "from qiskit import QuantumCircuit\n",
    "from qiskit import Aer, transpile, execute\n",
    "from qiskit.tools.visualization import plot_histogram\n",
    "\n",
    "# Import from QiskitAer noise module\n",
    "from qiskit.providers.aer import AerSimulator\n",
    "from qiskit.providers.aer.noise import NoiseModel\n",
    "from qiskit.providers.aer.noise import QuantumError, ReadoutError\n",
    "from qiskit.providers.aer.noise import pauli_error, amplitude_damping_error, coherent_unitary_error\n",
    "from qiskit.providers.aer.noise import depolarizing_error\n",
    "\n",
    "# Import Quantum Information module\n",
    "import qiskit.quantum_info as qi\n"
   ]
  },
  {
   "cell_type": "markdown",
   "id": "f2d07d95",
   "metadata": {},
   "source": [
    "## Build noise model"
   ]
  },
  {
   "cell_type": "markdown",
   "id": "8cc3de0c",
   "metadata": {},
   "source": [
    "Define initial parameters for you QC system and the error model, as well as the error magnitude."
   ]
  },
  {
   "cell_type": "code",
   "execution_count": 2,
   "id": "440700b5",
   "metadata": {
    "scrolled": true
   },
   "outputs": [],
   "source": [
    "num_qubits = 1\n",
    "d2 = 2**(2*num_qubits)\n",
    "native_gate_list = ['x', 'y', 'z']\n",
    "\n",
    "error_scale = 1*(10**(-3))\n",
    "\n",
    "\n",
    "rng = np.random.default_rng(1234)\n",
    "\n",
    "\n",
    "# create list of native gate operations as numpy array\n",
    "native_gate_op = [qi.Pauli('X').to_matrix() , qi.Pauli('Y').to_matrix() , qi.Pauli('Z').to_matrix()]\n",
    "native_gate_channels = [qu.gate_to_channelmatrix(G) for G in native_gate_op]\n",
    "\n",
    "def noise_model(e_vec):\n",
    "    NM = np.eye(4)\n",
    "    NM = np.dot(qu.get_rotation_channel(e_vec[6],'z'),NM)\n",
    "    NM = np.dot(qu.get_rotation_channel(e_vec[5],'y'),NM)\n",
    "    NM = np.dot(qu.get_rotation_channel(e_vec[4],'x'),NM)\n",
    "    NM = np.dot(qu.get_Pauli_channel2(e_vec[1],e_vec[2],e_vec[3]),NM)\n",
    "    NM = np.dot(qu.get_AD_channel2(e_vec[0]),NM)\n",
    "    return(NM)\n",
    "\n",
    "noisy_native_gate_channels = [noise_model(rng.random(7)*error_scale)@gate for gate in native_gate_channels]\n",
    "\n",
    "\n",
    "\n",
    "def linear_noise_model(e_vec):\n",
    "    return( np.eye(4) + np.vstack( (np.zeros((1,4)), e_vec.reshape(3,4) )   ) )\n",
    "\n",
    "\n",
    "# noisy_native_gate_channels = [linear_noise_model(rng.random(12)*error_scale)@gate for gate in native_gate_channels]\n"
   ]
  },
  {
   "cell_type": "code",
   "execution_count": 3,
   "id": "0571cf08",
   "metadata": {},
   "outputs": [
    {
     "name": "stdout",
     "output_type": "stream",
     "text": [
      "AGsI:\n",
      "0.001297028032845704\n"
     ]
    }
   ],
   "source": [
    "print('AGsI:')\n",
    "print(np.real(qu.AGsI(native_gate_channels, noisy_native_gate_channels)))"
   ]
  },
  {
   "cell_type": "markdown",
   "id": "ccd5c5f6",
   "metadata": {},
   "source": [
    "Now we will setup initial state and measurement error. Notice that, chosing as POVM $P_0 = |0\\rangle \\langle 0 | + \\frac{a}{\\sqrt{2}}(X + Y - Z)$ will only affect the measurement in Z basis as $P_0 = |0\\rangle \\langle 0 | + \\frac{a}{\\sqrt{2}}(- Z)$, i.e. with a mis-reading equal to $\\frac{a}{\\sqrt{2}}$ for both $P(1|0)$ and $P(0|1)$."
   ]
  },
  {
   "cell_type": "code",
   "execution_count": 4,
   "id": "0817506a",
   "metadata": {},
   "outputs": [],
   "source": [
    "# build initial state \\rho_in and POVMs\n",
    "a = 0.01\n",
    "#a = 0\n",
    "#a = np.sqrt(np.real(qu.AGsI(native_gate_channels, noisy_native_gate_channels)))\n",
    "\n",
    "rho_in = np.array([[1, 0],[0, 0]], dtype = np.complex_) + a/np.sqrt(2) * ( qi.Pauli('X').to_matrix() + qi.Pauli('Y').to_matrix() - qi.Pauli('Z').to_matrix())\n",
    "\n",
    "P0 = rho_in # set measurement POVM\n",
    "P1 = np.array([[1, 0],[0, 1]], dtype = np.complex_) - P0\n",
    "\n",
    "rho_dirac = qu.superket(rho_in)\n",
    "P0_dirac = qu.superbra(P0)\n",
    "\n",
    "rho_true = qu.superket(np.array([[1,0],[0,0]]))\n",
    "P0_true = qu.superbra(np.array([[1,0],[0,0]]))"
   ]
  },
  {
   "cell_type": "markdown",
   "id": "91570bce",
   "metadata": {},
   "source": [
    "## Sample circuits of intrest"
   ]
  },
  {
   "cell_type": "markdown",
   "id": "c53f573c",
   "metadata": {},
   "source": [
    "Each circuit will be a list of integers from $1$ to $|\\mathcal{G}|$. They will be then arranged into a list of lists, grouping per depth.\n",
    "NOTE: duplicate circuits have to be discarded."
   ]
  },
  {
   "cell_type": "code",
   "execution_count": 5,
   "id": "c2039111",
   "metadata": {},
   "outputs": [],
   "source": [
    "L_list = [8, 16, 32, 64, 128]\n",
    "#L_list = [8,16,32]\n",
    "Nc = 150\n",
    "#Nc = 24\n",
    "Nshots = 8192\n",
    "b_elem = [0,1]\n",
    "\n",
    "circuit_list = []\n",
    "circuit_list.append([])\n",
    "for l in range(len(L_list)):\n",
    "    circuits = []\n",
    "    for i in range(Nc):\n",
    "        c = rng.integers(low=0, high= len(native_gate_list), size=L_list[l]).tolist() \n",
    "        while c in circuits:\n",
    "            c = rng.integers(low=0, high= len(native_gate_list), size=L_list[l]).tolist()\n",
    "        circuits.append(c)\n",
    "    circuit_list.append(circuits)\n",
    "\n",
    "    \n",
    "Nc_tot = 1 + len(L_list)*Nc\n",
    "L_list = [0] + L_list\n"
   ]
  },
  {
   "cell_type": "markdown",
   "id": "83de8a46",
   "metadata": {},
   "source": [
    "## Compute $\\tilde{p}$ and $p$ and build $\\mathbf{C}$\n",
    "Ideal probabilities can be retrived from the same method that builds $\\mathbf{C}$. Noisy probabilities have to be simulated apart."
   ]
  },
  {
   "cell_type": "code",
   "execution_count": 6,
   "id": "bf022d43",
   "metadata": {},
   "outputs": [],
   "source": [
    "p_noisy = np.zeros((Nc_tot,1))\n",
    "p_true = np.zeros((Nc_tot,1))\n",
    "ne_param = len(native_gate_channels)*d2*(d2-1)+2*d2-1\n",
    "C = np.zeros((Nc_tot, ne_param))\n",
    "\n",
    "j = 1\n",
    "p_noisy[0] = qu.my_braket([P0_dirac,rho_dirac]) # null circuit\n",
    "C[0],p_true[0] = rlgst.get_C_coeff([],native_gate_channels)\n",
    "\n",
    "\n",
    "for l in range(1,len(L_list)):\n",
    "    for c in circuit_list[l]:\n",
    "        C[j],p_true[j] = rlgst.get_C_coeff(c,native_gate_channels)\n",
    "        gate_list = [noisy_native_gate_channels[gate] for gate in c[::-1] ]\n",
    "        gate_list.insert(0,P0_dirac)\n",
    "        gate_list.append(rho_dirac)\n",
    "        p_noisy[j] = (Nshots - np.sum(np.random.choice(b_elem, Nshots, p =  [qu.my_braket(gate_list)[0,0],1-qu.my_braket(gate_list)[0,0]] )))/Nshots\n",
    "        j+=1    \n"
   ]
  },
  {
   "cell_type": "markdown",
   "id": "547a622e",
   "metadata": {},
   "source": [
    "## Estimate error $\\hat{e}$"
   ]
  },
  {
   "cell_type": "code",
   "execution_count": 7,
   "id": "94ab1aa3",
   "metadata": {
    "scrolled": true
   },
   "outputs": [
    {
     "name": "stdout",
     "output_type": "stream",
     "text": [
      "8.717014085100965e-11\n"
     ]
    }
   ],
   "source": [
    "# compute C (pseudo)inverse\n",
    "V, C_eig, WH = np.linalg.svd(C, full_matrices=False)\n",
    "threshold = Nc_tot*np.finfo(float).eps*C_eig.max()\n",
    "print(threshold)\n",
    "\n",
    "inv_diag = [1/lambda_ if np.abs(lambda_) >= threshold else 0 for lambda_ in C_eig]\n",
    "\n",
    "C_inv = WH.conjugate().T @ np.diag(inv_diag) @ V.conjugate().T # right inverse of C\n",
    "\n",
    "# estimate e\n",
    "e = C_inv@(p_noisy-p_true)\n"
   ]
  },
  {
   "cell_type": "markdown",
   "id": "2d153094",
   "metadata": {},
   "source": [
    "Analyze $\\mathbf{C}$ matrix."
   ]
  },
  {
   "cell_type": "code",
   "execution_count": 8,
   "id": "8a7ac59b",
   "metadata": {
    "scrolled": false
   },
   "outputs": [
    {
     "name": "stdout",
     "output_type": "stream",
     "text": [
      "[5.22742229e+02 6.67844986e+01 5.51789915e+01 5.46971467e+01\n",
      " 5.33614626e+01 2.01801325e+01 1.80751360e+01 6.50999245e-14\n",
      " 4.52410357e-14 3.82791956e-14 3.82791956e-14 3.82791956e-14\n",
      " 3.82791956e-14 3.82791956e-14 3.82791956e-14 3.82791956e-14\n",
      " 3.82791956e-14 3.82791956e-14 3.82791956e-14 3.82791956e-14\n",
      " 3.82791956e-14 3.82791956e-14 3.82791956e-14 3.82791956e-14\n",
      " 3.82791956e-14 3.82791956e-14 3.82791956e-14 3.82791956e-14\n",
      " 3.82791956e-14 3.82791956e-14 3.82791956e-14 3.82791956e-14\n",
      " 3.82791956e-14 3.82791956e-14 3.82791956e-14 3.82791956e-14\n",
      " 3.82791956e-14 3.82791956e-14 3.82791956e-14 3.82791956e-14\n",
      " 3.82791956e-14 3.76649483e-14 2.25084257e-14]\n",
      "[0.0019129887444338924, 0.014973534592050794, 0.018122839371453633, 0.01828248932109024, 0.018740116021044396, 0.04955368844095921, 0.05532461826481214, 0, 0, 0, 0, 0, 0, 0, 0, 0, 0, 0, 0, 0, 0, 0, 0, 0, 0, 0, 0, 0, 0, 0, 0, 0, 0, 0, 0, 0, 0, 0, 0, 0, 0, 0, 0]\n",
      "[[-2.92933912e-18 -1.15084454e-17  5.84539993e-17 -7.62254418e-19\n",
      "  -9.80235021e-20 -6.61949316e-19 -2.46799260e-20 -1.11201281e-19\n",
      "   2.79341480e-04  0.00000000e+00  0.00000000e+00 -2.65750433e-03\n",
      "   0.00000000e+00  0.00000000e+00  0.00000000e+00  0.00000000e+00\n",
      "   0.00000000e+00  0.00000000e+00  0.00000000e+00  0.00000000e+00\n",
      "   2.71252667e-04  0.00000000e+00  0.00000000e+00 -1.94104568e-03\n",
      "   0.00000000e+00  0.00000000e+00  0.00000000e+00  0.00000000e+00\n",
      "   0.00000000e+00  0.00000000e+00  0.00000000e+00  0.00000000e+00\n",
      "   1.22007512e-04  0.00000000e+00  0.00000000e+00 -2.55334019e-03\n",
      "   0.00000000e+00  0.00000000e+00 -1.25260220e-02 -1.09687066e-02\n",
      "   0.00000000e+00  0.00000000e+00 -1.25260220e-02]]\n"
     ]
    }
   ],
   "source": [
    "print(C_eig)\n",
    "print(inv_diag)\n",
    "print(e.T)"
   ]
  },
  {
   "cell_type": "markdown",
   "id": "7f3cb7b6",
   "metadata": {},
   "source": [
    "Extract noisy maps from $e$."
   ]
  },
  {
   "cell_type": "code",
   "execution_count": 9,
   "id": "204912fe",
   "metadata": {
    "scrolled": true
   },
   "outputs": [
    {
     "name": "stdout",
     "output_type": "stream",
     "text": [
      "[[0.70710678]\n",
      " [0.01      ]\n",
      " [0.01      ]\n",
      " [0.69710678]]\n",
      "[[0.70710678]\n",
      " [0.        ]\n",
      " [0.        ]\n",
      " [0.69458076]]\n",
      "[[0.70710678 0.01       0.01       0.69710678]]\n",
      "[[0.69613807 0.         0.         0.69458076]]\n"
     ]
    }
   ],
   "source": [
    "#err_list = []\n",
    "est_noisy_gate_channels = []\n",
    "\n",
    "for i in range(len(native_gate_channels)):\n",
    "    e_i = np.eye(4) + np.vstack(( np.zeros((1,4)), e[i*12:(i+1)*12].reshape(3,4)))\n",
    "    #err_list.append(e_i)\n",
    "    est_noisy_gate_channels.append(e_i@native_gate_channels[i])\n",
    "    \n",
    "rho_est = qu.superket(np.array([[1, 0],[0, 0]], dtype = np.complex_)) +  np.vstack( (np.array([0]), e[len(native_gate_channels)*12:len(native_gate_channels)*12+3]) )\n",
    "P0_est = qu.superbra(np.array([[1, 0],[0, 0]], dtype = np.complex_)) + e[len(native_gate_channels)*12+3:].conjugate().T\n",
    "\n",
    "print(rho_dirac)\n",
    "print(rho_est)\n",
    "print(P0_dirac)\n",
    "print(P0_est)"
   ]
  },
  {
   "cell_type": "code",
   "execution_count": 10,
   "id": "e87326b3",
   "metadata": {},
   "outputs": [
    {
     "name": "stdout",
     "output_type": "stream",
     "text": [
      "[[ 0.        ]\n",
      " [-0.01      ]\n",
      " [-0.01      ]\n",
      " [-0.00252602]]\n",
      "[[-0.01096871 -0.01       -0.01       -0.00252602]]\n"
     ]
    }
   ],
   "source": [
    "print(rho_est-rho_dirac)\n",
    "print(P0_est-P0_dirac)"
   ]
  },
  {
   "cell_type": "markdown",
   "id": "19a4926f",
   "metadata": {},
   "source": [
    "## Run test-set circuits"
   ]
  },
  {
   "cell_type": "code",
   "execution_count": 11,
   "id": "cee33cb8",
   "metadata": {},
   "outputs": [
    {
     "name": "stdout",
     "output_type": "stream",
     "text": [
      "[0.006105649323063641, 0.008660761887202599, 0.01816661860125861, 0.029319587863588556, 0.06833115942095212, 0.1330888062855204]\n",
      "[0.00612541777474723, 0.008756532351630422, 0.018530519994508148, 0.029199449985245103, 0.06681649171282035, 0.1319909883147199]\n",
      "[0.006088016501734593, 0.008710521030011997, 0.01797157888868663, 0.02947047038022766, 0.0684847027314594, 0.13215959732255647]\n",
      "[0.006099379106217057, 0.00870275261580627, 0.018093900772401285, 0.029503781631770587, 0.06799116021391176, 0.1329058452964759]\n",
      "[0.006134069045540836, 0.008731670318682983, 0.017968042824752038, 0.031093326775557185, 0.06737706095479562, 0.13264628972839076]\n",
      "[0.00615300426328322, 0.008736666889997536, 0.017766612845354107, 0.030944599143434424, 0.06805567186107853, 0.13222521323585534]\n",
      "[0.006155422195825389, 0.008763206565919574, 0.017810269902611923, 0.02979327409703671, 0.06832596055855306, 0.13142467995621593]\n",
      "[0.006146388343613113, 0.008714613124776852, 0.018403379143538394, 0.029830758390221358, 0.06959031366938635, 0.13276356411568424]\n",
      "[0.006115161566520513, 0.008754562099833364, 0.01792607168458955, 0.029271859769707524, 0.0670044978487701, 0.1310283700099339]\n",
      "[0.006121476936677551, 0.008751536408348528, 0.017867144974705915, 0.029836423658279182, 0.0674026238363885, 0.13145586606280157]\n"
     ]
    }
   ],
   "source": [
    "L_test_list = [10, 50, 100, 200, 500, 1000]\n",
    "Nc_test = 1000\n",
    "\n",
    "Nc_test_tot = len(L_test_list)*Nc_test\n",
    "\n",
    "N_it = 10\n",
    "\n",
    "delta = np.zeros((N_it,len(L_test_list)))\n",
    "\n",
    "for it in range(N_it):\n",
    "    delta_it = []\n",
    "    circuit_test_list = []\n",
    "    for l in range(len(L_test_list)):\n",
    "        circ = [rng.integers(low=0, high= len(native_gate_list), \n",
    "                             size=L_test_list[l]).tolist() for i in range(Nc_test)] \n",
    "\n",
    "        p_test_true_l = np.zeros((Nc_test,1))  # true noisy p\n",
    "        p_test_est_l = np.zeros((Nc_test,1)) # estimated p\n",
    "        j = 0\n",
    "       \n",
    "        for c in circ:\n",
    "            true_gate_list = [noisy_native_gate_channels[gate] for gate in c[::-1] ]\n",
    "            true_gate_list.insert(0,P0_dirac)\n",
    "            true_gate_list.append(rho_dirac)\n",
    "            #true_gate_list.insert(0,P0_true)\n",
    "            #true_gate_list.append(rho_true)\n",
    "            \n",
    "            est_gate_list = [est_noisy_gate_channels[gate] for gate in c[::-1] ]\n",
    "            est_gate_list.insert(0,P0_est)\n",
    "            est_gate_list.append(rho_est)\n",
    "            #est_gate_list.insert(0,P0_true)\n",
    "            #est_gate_list.append(rho_true)\n",
    "\n",
    "            p_test_true_l[j] = qu.my_braket(true_gate_list)[0,0]\n",
    "            p_test_est_l[j] = qu.my_braket(est_gate_list)[0,0]\n",
    "            j+=1 \n",
    "        \n",
    "        delta_it.append(np.linalg.norm((p_test_true_l - p_test_est_l),ord=1)/Nc_test)\n",
    "    print(delta_it)\n",
    "    delta[it] = np.array(delta_it)\n",
    "\n",
    "\n",
    "delta_mean = np.mean(delta,axis=0)\n"
   ]
  },
  {
   "cell_type": "code",
   "execution_count": 12,
   "id": "11b0ea45",
   "metadata": {},
   "outputs": [
    {
     "name": "stderr",
     "output_type": "stream",
     "text": [
      "/home/alb/Scrivania/Quantum/Projects/sparseGST/sparsegst_venv/lib/python3.7/site-packages/ipykernel_launcher.py:7: UserWarning: FixedFormatter should only be used together with FixedLocator\n",
      "  import sys\n"
     ]
    },
    {
     "data": {
      "image/png": "[encoded data removed]",
      "text/plain": [
       "<Figure size 432x288 with 1 Axes>"
      ]
     },
     "metadata": {
      "needs_background": "light"
     },
     "output_type": "display_data"
    }
   ],
   "source": [
    "plt.figure()\n",
    "ax = plt.axes()\n",
    "x_space = [0,1,2,3,4,5]\n",
    "plt.plot(x_space, delta_mean, 'b', lw=1)\n",
    "plt.scatter(x_space, delta_mean, s=20)\n",
    "plt.yscale(\"log\")\n",
    "ax.set_xticklabels([0]+L_test_list)\n",
    "plt.show()"
   ]
  },
  {
   "cell_type": "code",
   "execution_count": null,
   "id": "86d4c93e",
   "metadata": {
    "scrolled": true
   },
   "outputs": [],
   "source": []
  },
  {
   "cell_type": "code",
   "execution_count": null,
   "id": "9ae78b21",
   "metadata": {},
   "outputs": [],
   "source": []
  }
 ],
 "metadata": {
  "kernelspec": {
   "display_name": "Python 3 (ipykernel)",
   "language": "python",
   "name": "python3"
  },
  "language_info": {
   "codemirror_mode": {
    "name": "ipython",
    "version": 3
   },
   "file_extension": ".py",
   "mimetype": "text/x-python",
   "name": "python",
   "nbconvert_exporter": "python",
   "pygments_lexer": "ipython3",
   "version": "3.7.4"
  }
 },
 "nbformat": 4,
 "nbformat_minor": 5
}
