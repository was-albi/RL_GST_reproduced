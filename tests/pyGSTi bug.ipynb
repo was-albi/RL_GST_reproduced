{
 "cells": [
  {
   "cell_type": "code",
   "execution_count": 1,
   "id": "7b27bfa5",
   "metadata": {},
   "outputs": [],
   "source": [
    "import pygsti\n",
    "import numpy as np\n",
    "import pygsti.modelmembers as mm\n",
    "from pygsti.modelpacks import smq1Q_XYI\n",
    "import pygsti.baseobjs as bo"
   ]
  },
  {
   "cell_type": "code",
   "execution_count": 2,
   "id": "f9481f34",
   "metadata": {},
   "outputs": [],
   "source": [
    "mdl_ideal = smq1Q_XYI.target_model()\n",
    "\n"
   ]
  },
  {
   "cell_type": "code",
   "execution_count": 3,
   "id": "53c06751",
   "metadata": {},
   "outputs": [],
   "source": [
    "model1 = pygsti.models.ExplicitOpModel(['Q0'],'pp')\n",
    "\n",
    "#Populate the Model object with states, effects, gates,\n",
    "# all in the *normalized* Pauli basis: { I/sqrt(2), X/sqrt(2), Y/sqrt(2), Z/sqrt(2) }\n",
    "# where I, X, Y, and Z are the standard Pauli matrices.\n",
    "model1['rho0'] = [ 1/np.sqrt(2), 0, 0, 1/np.sqrt(2) ] # density matrix [[1, 0], [0, 0]] in Pauli basis\n",
    "model1['Mdefault'] = mm.povms.UnconstrainedPOVM(\n",
    "    {'0': [ 1/np.sqrt(2), 0, 0, 1/np.sqrt(2) ],   # projector onto [[1, 0], [0, 0]] in Pauli basis\n",
    "     '1': [ 1/np.sqrt(2), 0, 0, -1/np.sqrt(2) ] },# projector onto [[0, 0], [0, 1]] in Pauli basis\n",
    "    evotype='densitymx') # Specify the evolution type when initializing from NumPy arrays.\n",
    "                         # densitymx is the default\n",
    "\n",
    "model1['Gi'] = np.identity(4,'d') # 4x4 identity matrix\n",
    "model1['Gx'] = [[1, 0, 0, 0],\n",
    "                  [0, 1, 0, 0],\n",
    "                  [0, 0, 0,-1],\n",
    "                  [0, 0, 1, 0]] # pi/2 X-rotation in Pauli basis\n",
    "\n",
    "model1['Gy'] = [[1, 0, 0, 0],\n",
    "                  [0, 0, 0, 1],\n",
    "                  [0, 0, 1, 0],\n",
    "                  [0,-1, 0, 0]] # pi/2 Y-rotation in Pauli basis"
   ]
  },
  {
   "cell_type": "code",
   "execution_count": 4,
   "id": "ecca2566",
   "metadata": {},
   "outputs": [],
   "source": [
    "prep_fiducials, meas_fiducials = smq1Q_XYI.prep_fiducials(), smq1Q_XYI.meas_fiducials()\n",
    "germs = smq1Q_XYI.germs()\n",
    "maxLengths = [1,2,4] # roughly gives the length of the sequences used by GST\n",
    "exp_design = pygsti.protocols.StandardGSTDesign(mdl_ideal, prep_fiducials, meas_fiducials,\n",
    "                                                germs, maxLengths)"
   ]
  },
  {
   "cell_type": "code",
   "execution_count": 5,
   "id": "fb05e489",
   "metadata": {
    "scrolled": true
   },
   "outputs": [
    {
     "name": "stdout",
     "output_type": "stream",
     "text": [
      "Qubit 0 -----\n",
      "\n",
      "{}@(0)\n",
      "0\n",
      "(0,)\n"
     ]
    }
   ],
   "source": [
    "c0 = exp_design.circuit_lists[0][0]\n",
    "print(c0)\n",
    "print(c0.str)\n",
    "print(len(c0))\n",
    "print(c0.line_labels)"
   ]
  },
  {
   "cell_type": "code",
   "execution_count": 6,
   "id": "1deee086",
   "metadata": {},
   "outputs": [
    {
     "name": "stdout",
     "output_type": "stream",
     "text": [
      "0(4)\n",
      "Q0(4)\n",
      "QubitSpace((0,))\n",
      "Q0(4)\n"
     ]
    }
   ],
   "source": [
    "print(mdl_ideal.state_space)\n",
    "print(model1.state_space)\n",
    "example_ss = bo.statespace.default_space_for_dim(4)\n",
    "#example_ss = bo.statespace.StateSpace.cast(mdl_ideal.state_space)\n",
    "print(example_ss)\n",
    "example_ss2 = bo.statespace.ExplicitStateSpace('Q0')\n",
    "print(example_ss2)"
   ]
  },
  {
   "cell_type": "code",
   "execution_count": 7,
   "id": "42b301f3",
   "metadata": {},
   "outputs": [
    {
     "name": "stdout",
     "output_type": "stream",
     "text": [
      "Mdefault\n"
     ]
    }
   ],
   "source": [
    "povm_test = mdl_ideal._default_primitive_povm_layer_lbl(('0',))\n",
    "print(mdl_ideal._default_primitive_povm_layer_lbl(None))"
   ]
  },
  {
   "cell_type": "code",
   "execution_count": 8,
   "id": "91c3e543",
   "metadata": {},
   "outputs": [
    {
     "name": "stdout",
     "output_type": "stream",
     "text": [
      "Qubit 0 ---|rho0|-|Mdefault|---\n",
      "\n"
     ]
    }
   ],
   "source": [
    "print(mdl_ideal.complete_circuit(c0))"
   ]
  },
  {
   "cell_type": "code",
   "execution_count": 9,
   "id": "ba53e6a6",
   "metadata": {},
   "outputs": [
    {
     "name": "stdout",
     "output_type": "stream",
     "text": [
      "Mdefault\n"
     ]
    }
   ],
   "source": [
    "povm_test = model1._default_primitive_povm_layer_lbl(('0',))\n",
    "print(model1._default_primitive_povm_layer_lbl(None))"
   ]
  },
  {
   "cell_type": "code",
   "execution_count": 10,
   "id": "3705f9bb",
   "metadata": {},
   "outputs": [
    {
     "name": "stdout",
     "output_type": "stream",
     "text": [
      "Qubit 0 ---|rho0|-|Mdefault|---\n",
      "\n"
     ]
    }
   ],
   "source": [
    "print(model1.complete_circuit(c0))"
   ]
  }
 ],
 "metadata": {
  "kernelspec": {
   "display_name": "Python 3 (ipykernel)",
   "language": "python",
   "name": "python3"
  },
  "language_info": {
   "codemirror_mode": {
    "name": "ipython",
    "version": 3
   },
   "file_extension": ".py",
   "mimetype": "text/x-python",
   "name": "python",
   "nbconvert_exporter": "python",
   "pygments_lexer": "ipython3",
   "version": "3.7.4"
  }
 },
 "nbformat": 4,
 "nbformat_minor": 5
}
