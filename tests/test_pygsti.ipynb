{
 "cells": [
  {
   "cell_type": "markdown",
   "id": "52fd3d2c",
   "metadata": {},
   "source": [
    "Goal: run GST circuits on a noisy version of a processor, defined by means of external objects already available in previous code (here replaced by hard-coded values for the gate set). "
   ]
  },
  {
   "cell_type": "code",
   "execution_count": 1,
   "id": "674a01ff",
   "metadata": {},
   "outputs": [],
   "source": [
    "import pygsti\n",
    "from pygsti.circuits import Circuit\n",
    "from pygsti.models import Model\n",
    "from pygsti.data import DataSet\n",
    "from pygsti.modelpacks import smq1Q_XYI\n",
    "import pygsti.modelmembers as mm"
   ]
  },
  {
   "cell_type": "markdown",
   "id": "f6bc62bc",
   "metadata": {},
   "source": [
    "Define a noisy model from external objects (transfer matrices) as specified in the ExtplicitModel tutorial. Notice that this is a noisy version of the ideal 1Q_XYI model."
   ]
  },
  {
   "cell_type": "code",
   "execution_count": 2,
   "id": "522aa53e",
   "metadata": {},
   "outputs": [],
   "source": [
    "#mdl_noisy = pygsti.models.ExplicitOpModel(['Q0'],'pp')\n",
    "mdl_noisy = pygsti.models.ExplicitOpModel((0,),'pp')\n",
    "\n",
    "\n",
    "mdl_noisy['rho0'] = [0.7071067811865475, 0.009999999999999998, 0.009999999999999998, 0.6971067811865475]\n",
    "mdl_noisy['Mdefault'] = mm.povms.UnconstrainedPOVM(\n",
    "    {'0': [0.7071067811865475, 0.009999999999999998, 0.009999999999999998, 0.6971067811865475],   \n",
    "     '1': [0.7071067811865475, -0.009999999999999998, -0.009999999999999998, -0.6971067811865475] },\n",
    "    evotype='densitymx') \n",
    "\n",
    "mdl_noisy['Gi'] = [[0.9999654982958031,  -1.5251364290190879e-09,  3.2513367541633463e-09,  3.449786624986966e-05],\n",
    "                 [-2.2544208955499016e-23,  0.9999091445586002,  -5.559960356745022e-05,  4.421081072260826e-05],\n",
    "                 [0.0, 5.559377316261826e-05, 0.999729369966824, -9.421951007515734e-05],\n",
    "                 [3.4501704195832845e-05,  -4.420314430131737e-05,  9.423373868868471e-05,  0.9998542628181082]]\n",
    "mdl_noisy['Gx'] = [[0.9999997616993812,  -2.136335691842206e-11,  2.3824485683394275e-07,  -4.465129558659462e-12],\n",
    "                 [-1.4360571591094742e-21,  0.9996955154950804,  8.964376658561085e-05,  7.037398865511354e-05],\n",
    "                 [0.0, 7.038488584856224e-05, -1.8732202886660586e-05, -0.9998264537916729],\n",
    "                 [2.383006177386624e-07,  -8.964874715914279e-05,  0.9997657677972213,  -1.8737376919069114e-05]]\n",
    "mdl_noisy['Gy'] = [[0.9999680757369688,  -3.191906141524171e-05,  2.5745933250246836e-09,  -5.445582400654756e-10],\n",
    "                 [-2.2363960426571598e-17,  -1.7059534221674734e-05,  -5.565836271153894e-05,  0.9996745572000995],\n",
    "                 [-1.2452753448810293e-21,  8.06395508462744e-05,  0.999757539735227,  5.566435900820664e-05],\n",
    "                 [3.192426303000314e-05,  -0.9998051448433464,  8.064434034422638e-05,  -1.705727271810807e-05]]"
   ]
  },
  {
   "cell_type": "code",
   "execution_count": 3,
   "id": "4fca461b",
   "metadata": {},
   "outputs": [],
   "source": [
    "# 1) get the target Model\n",
    "mdl_ideal = smq1Q_XYI.target_model()\n",
    "\n",
    "\n",
    "# 2) get the building blocks needed to specify which circuits are needed\n",
    "prep_fiducials, meas_fiducials = smq1Q_XYI.prep_fiducials(), smq1Q_XYI.meas_fiducials()\n",
    "germs = smq1Q_XYI.germs()\n",
    "\n",
    "maxLengths = [1,2,4]\n",
    "lsgst_lists = pygsti.circuits.create_lsgst_circuit_lists(mdl_ideal, prep_fiducials, meas_fiducials, germs, maxLengths)\n",
    "\n",
    "listOfExperiments = pygsti.circuits.create_lsgst_circuits(mdl_ideal, prep_fiducials, meas_fiducials, germs, maxLengths)\n"
   ]
  },
  {
   "cell_type": "code",
   "execution_count": 4,
   "id": "6f11f438",
   "metadata": {},
   "outputs": [
    {
     "ename": "KeyError",
     "evalue": "'Cannot create operator for label `Gxpi2:0` from factories. Maybe you forgot the args?'",
     "output_type": "error",
     "traceback": [
      "\u001b[0;31m---------------------------------------------------------------------------\u001b[0m",
      "\u001b[0;31mKeyError\u001b[0m                                  Traceback (most recent call last)",
      "\u001b[0;32m/tmp/ipykernel_691/67948827.py\u001b[0m in \u001b[0;36m<module>\u001b[0;34m\u001b[0m\n\u001b[1;32m      1\u001b[0m ds = pygsti.data.simulate_data(mdl_noisy, listOfExperiments, num_samples=1000,\n\u001b[0;32m----> 2\u001b[0;31m                                             sample_error=\"binomial\", seed=1234)\n\u001b[0m",
      "\u001b[0;32m~/Scrivania/Quantum/Projects/sparseGST/sparsegst_venv/pyGSTi/pygsti/data/datasetconstruction.py\u001b[0m in \u001b[0;36msimulate_data\u001b[0;34m(model_or_dataset, circuit_list, num_samples, sample_error, seed, rand_state, alias_dict, collision_action, record_zero_counts, comm, mem_limit, times)\u001b[0m\n\u001b[1;32m    142\u001b[0m         \u001b[0;32melse\u001b[0m\u001b[0;34m:\u001b[0m\u001b[0;34m\u001b[0m\u001b[0;34m\u001b[0m\u001b[0m\n\u001b[1;32m    143\u001b[0m             \u001b[0mtrans_circuit_list\u001b[0m \u001b[0;34m=\u001b[0m \u001b[0mcircuit_list\u001b[0m\u001b[0;34m\u001b[0m\u001b[0;34m\u001b[0m\u001b[0m\n\u001b[0;32m--> 144\u001b[0;31m         \u001b[0mall_probs\u001b[0m \u001b[0;34m=\u001b[0m \u001b[0mgsGen\u001b[0m\u001b[0;34m.\u001b[0m\u001b[0mbulk_probabilities\u001b[0m\u001b[0;34m(\u001b[0m\u001b[0mtrans_circuit_list\u001b[0m\u001b[0;34m,\u001b[0m \u001b[0mcomm\u001b[0m\u001b[0;34m=\u001b[0m\u001b[0mcomm\u001b[0m\u001b[0;34m,\u001b[0m \u001b[0mmem_limit\u001b[0m\u001b[0;34m=\u001b[0m\u001b[0mmem_limit\u001b[0m\u001b[0;34m)\u001b[0m\u001b[0;34m\u001b[0m\u001b[0;34m\u001b[0m\u001b[0m\n\u001b[0m\u001b[1;32m    145\u001b[0m     \u001b[0;32melse\u001b[0m\u001b[0;34m:\u001b[0m\u001b[0;34m\u001b[0m\u001b[0;34m\u001b[0m\u001b[0m\n\u001b[1;32m    146\u001b[0m         \u001b[0mtrans_circuit_list\u001b[0m \u001b[0;34m=\u001b[0m \u001b[0mcircuit_list\u001b[0m\u001b[0;34m\u001b[0m\u001b[0;34m\u001b[0m\u001b[0m\n",
      "\u001b[0;32m~/Scrivania/Quantum/Projects/sparseGST/sparsegst_venv/pyGSTi/pygsti/models/model.py\u001b[0m in \u001b[0;36mbulk_probabilities\u001b[0;34m(self, circuits, clip_to, comm, mem_limit, smartc)\u001b[0m\n\u001b[1;32m   1569\u001b[0m         \"\"\"\n\u001b[1;32m   1570\u001b[0m         \u001b[0mresource_alloc\u001b[0m \u001b[0;34m=\u001b[0m \u001b[0m_ResourceAllocation\u001b[0m\u001b[0;34m(\u001b[0m\u001b[0mcomm\u001b[0m\u001b[0;34m,\u001b[0m \u001b[0mmem_limit\u001b[0m\u001b[0;34m)\u001b[0m\u001b[0;34m\u001b[0m\u001b[0;34m\u001b[0m\u001b[0m\n\u001b[0;32m-> 1571\u001b[0;31m         \u001b[0;32mreturn\u001b[0m \u001b[0mself\u001b[0m\u001b[0;34m.\u001b[0m\u001b[0msim\u001b[0m\u001b[0;34m.\u001b[0m\u001b[0mbulk_probs\u001b[0m\u001b[0;34m(\u001b[0m\u001b[0mcircuits\u001b[0m\u001b[0;34m,\u001b[0m \u001b[0mclip_to\u001b[0m\u001b[0;34m,\u001b[0m \u001b[0mresource_alloc\u001b[0m\u001b[0;34m,\u001b[0m \u001b[0msmartc\u001b[0m\u001b[0;34m)\u001b[0m\u001b[0;34m\u001b[0m\u001b[0;34m\u001b[0m\u001b[0m\n\u001b[0m\u001b[1;32m   1572\u001b[0m \u001b[0;34m\u001b[0m\u001b[0m\n\u001b[1;32m   1573\u001b[0m     \u001b[0;32mdef\u001b[0m \u001b[0m_init_copy\u001b[0m\u001b[0;34m(\u001b[0m\u001b[0mself\u001b[0m\u001b[0;34m,\u001b[0m \u001b[0mcopy_into\u001b[0m\u001b[0;34m,\u001b[0m \u001b[0mmemo\u001b[0m\u001b[0;34m)\u001b[0m\u001b[0;34m:\u001b[0m\u001b[0;34m\u001b[0m\u001b[0;34m\u001b[0m\u001b[0m\n",
      "\u001b[0;32m~/Scrivania/Quantum/Projects/sparseGST/sparsegst_venv/pyGSTi/pygsti/forwardsims/forwardsim.py\u001b[0m in \u001b[0;36mbulk_probs\u001b[0;34m(self, circuits, clip_to, resource_alloc, smartc)\u001b[0m\n\u001b[1;32m    420\u001b[0m                 \u001b[0msmartc\u001b[0m\u001b[0;34m.\u001b[0m\u001b[0mcached_compute\u001b[0m\u001b[0;34m(\u001b[0m\u001b[0mself\u001b[0m\u001b[0;34m.\u001b[0m\u001b[0mbulk_fill_probs\u001b[0m\u001b[0;34m,\u001b[0m \u001b[0mlocal_vp\u001b[0m\u001b[0;34m,\u001b[0m \u001b[0mcopa_layout\u001b[0m\u001b[0;34m,\u001b[0m \u001b[0m_filledarrays\u001b[0m\u001b[0;34m=\u001b[0m\u001b[0;34m(\u001b[0m\u001b[0;36m0\u001b[0m\u001b[0;34m,\u001b[0m\u001b[0;34m)\u001b[0m\u001b[0;34m)\u001b[0m\u001b[0;34m\u001b[0m\u001b[0;34m\u001b[0m\u001b[0m\n\u001b[1;32m    421\u001b[0m             \u001b[0;32melse\u001b[0m\u001b[0;34m:\u001b[0m\u001b[0;34m\u001b[0m\u001b[0;34m\u001b[0m\u001b[0m\n\u001b[0;32m--> 422\u001b[0;31m                 \u001b[0mself\u001b[0m\u001b[0;34m.\u001b[0m\u001b[0mbulk_fill_probs\u001b[0m\u001b[0;34m(\u001b[0m\u001b[0mlocal_vp\u001b[0m\u001b[0;34m,\u001b[0m \u001b[0mcopa_layout\u001b[0m\u001b[0;34m)\u001b[0m\u001b[0;34m\u001b[0m\u001b[0;34m\u001b[0m\u001b[0m\n\u001b[0m\u001b[1;32m    423\u001b[0m             \u001b[0mvp\u001b[0m \u001b[0;34m=\u001b[0m \u001b[0mcopa_layout\u001b[0m\u001b[0;34m.\u001b[0m\u001b[0mgather_local_array\u001b[0m\u001b[0;34m(\u001b[0m\u001b[0;34m'e'\u001b[0m\u001b[0;34m,\u001b[0m \u001b[0mlocal_vp\u001b[0m\u001b[0;34m)\u001b[0m  \u001b[0;31m# gather data onto rank-0 processor\u001b[0m\u001b[0;34m\u001b[0m\u001b[0;34m\u001b[0m\u001b[0m\n\u001b[1;32m    424\u001b[0m             \u001b[0mcopa_layout\u001b[0m\u001b[0;34m.\u001b[0m\u001b[0mfree_local_array\u001b[0m\u001b[0;34m(\u001b[0m\u001b[0mlocal_vp\u001b[0m\u001b[0;34m)\u001b[0m\u001b[0;34m\u001b[0m\u001b[0;34m\u001b[0m\u001b[0m\n",
      "\u001b[0;32m~/Scrivania/Quantum/Projects/sparseGST/sparsegst_venv/pyGSTi/pygsti/forwardsims/forwardsim.py\u001b[0m in \u001b[0;36mbulk_fill_probs\u001b[0;34m(self, array_to_fill, layout)\u001b[0m\n\u001b[1;32m    554\u001b[0m         \u001b[0;32mNone\u001b[0m\u001b[0;34m\u001b[0m\u001b[0;34m\u001b[0m\u001b[0m\n\u001b[1;32m    555\u001b[0m         \"\"\"\n\u001b[0;32m--> 556\u001b[0;31m         \u001b[0;32mreturn\u001b[0m \u001b[0mself\u001b[0m\u001b[0;34m.\u001b[0m\u001b[0m_bulk_fill_probs\u001b[0m\u001b[0;34m(\u001b[0m\u001b[0marray_to_fill\u001b[0m\u001b[0;34m,\u001b[0m \u001b[0mlayout\u001b[0m\u001b[0;34m)\u001b[0m\u001b[0;34m\u001b[0m\u001b[0;34m\u001b[0m\u001b[0m\n\u001b[0m\u001b[1;32m    557\u001b[0m \u001b[0;34m\u001b[0m\u001b[0m\n\u001b[1;32m    558\u001b[0m     \u001b[0;32mdef\u001b[0m \u001b[0m_bulk_fill_probs\u001b[0m\u001b[0;34m(\u001b[0m\u001b[0mself\u001b[0m\u001b[0;34m,\u001b[0m \u001b[0marray_to_fill\u001b[0m\u001b[0;34m,\u001b[0m \u001b[0mlayout\u001b[0m\u001b[0;34m)\u001b[0m\u001b[0;34m:\u001b[0m\u001b[0;34m\u001b[0m\u001b[0;34m\u001b[0m\u001b[0m\n",
      "\u001b[0;32m~/Scrivania/Quantum/Projects/sparseGST/sparsegst_venv/pyGSTi/pygsti/forwardsims/distforwardsim.py\u001b[0m in \u001b[0;36m_bulk_fill_probs\u001b[0;34m(self, array_to_fill, layout)\u001b[0m\n\u001b[1;32m     97\u001b[0m \u001b[0;34m\u001b[0m\u001b[0m\n\u001b[1;32m     98\u001b[0m         \u001b[0;32mfor\u001b[0m \u001b[0matom\u001b[0m \u001b[0;32min\u001b[0m \u001b[0mlayout\u001b[0m\u001b[0;34m.\u001b[0m\u001b[0matoms\u001b[0m\u001b[0;34m:\u001b[0m  \u001b[0;31m# layout only holds local atoms\u001b[0m\u001b[0;34m\u001b[0m\u001b[0;34m\u001b[0m\u001b[0m\n\u001b[0;32m---> 99\u001b[0;31m             \u001b[0mself\u001b[0m\u001b[0;34m.\u001b[0m\u001b[0m_bulk_fill_probs_atom\u001b[0m\u001b[0;34m(\u001b[0m\u001b[0marray_to_fill\u001b[0m\u001b[0;34m[\u001b[0m\u001b[0matom\u001b[0m\u001b[0;34m.\u001b[0m\u001b[0melement_slice\u001b[0m\u001b[0;34m]\u001b[0m\u001b[0;34m,\u001b[0m \u001b[0matom\u001b[0m\u001b[0;34m,\u001b[0m \u001b[0matom_resource_alloc\u001b[0m\u001b[0;34m)\u001b[0m\u001b[0;34m\u001b[0m\u001b[0;34m\u001b[0m\u001b[0m\n\u001b[0m\u001b[1;32m    100\u001b[0m \u001b[0;34m\u001b[0m\u001b[0m\n\u001b[1;32m    101\u001b[0m         \u001b[0matom_resource_alloc\u001b[0m\u001b[0;34m.\u001b[0m\u001b[0mhost_comm_barrier\u001b[0m\u001b[0;34m(\u001b[0m\u001b[0;34m)\u001b[0m  \u001b[0;31m# don't exit until all procs' array_to_fill is ready\u001b[0m\u001b[0;34m\u001b[0m\u001b[0;34m\u001b[0m\u001b[0m\n",
      "\u001b[0;32m~/Scrivania/Quantum/Projects/sparseGST/sparsegst_venv/pyGSTi/pygsti/forwardsims/matrixforwardsim.py\u001b[0m in \u001b[0;36m_bulk_fill_probs_atom\u001b[0;34m(self, array_to_fill, layout_atom, resource_alloc)\u001b[0m\n\u001b[1;32m   1360\u001b[0m \u001b[0;34m\u001b[0m\u001b[0m\n\u001b[1;32m   1361\u001b[0m         \u001b[0;31m#Fill cache info\u001b[0m\u001b[0;34m\u001b[0m\u001b[0;34m\u001b[0m\u001b[0;34m\u001b[0m\u001b[0m\n\u001b[0;32m-> 1362\u001b[0;31m         \u001b[0mprodCache\u001b[0m\u001b[0;34m,\u001b[0m \u001b[0mscaleCache\u001b[0m \u001b[0;34m=\u001b[0m \u001b[0mself\u001b[0m\u001b[0;34m.\u001b[0m\u001b[0m_compute_product_cache\u001b[0m\u001b[0;34m(\u001b[0m\u001b[0mlayout_atom\u001b[0m\u001b[0;34m.\u001b[0m\u001b[0mtree\u001b[0m\u001b[0;34m,\u001b[0m \u001b[0mresource_alloc\u001b[0m\u001b[0;34m)\u001b[0m\u001b[0;34m\u001b[0m\u001b[0;34m\u001b[0m\u001b[0m\n\u001b[0m\u001b[1;32m   1363\u001b[0m \u001b[0;34m\u001b[0m\u001b[0m\n\u001b[1;32m   1364\u001b[0m         \u001b[0;32mif\u001b[0m \u001b[0;32mnot\u001b[0m \u001b[0mresource_alloc\u001b[0m\u001b[0;34m.\u001b[0m\u001b[0mis_host_leader\u001b[0m\u001b[0;34m:\u001b[0m\u001b[0;34m\u001b[0m\u001b[0;34m\u001b[0m\u001b[0m\n",
      "\u001b[0;32m~/Scrivania/Quantum/Projects/sparseGST/sparsegst_venv/pyGSTi/pygsti/forwardsims/matrixforwardsim.py\u001b[0m in \u001b[0;36m_compute_product_cache\u001b[0;34m(self, layout_atom_tree, resource_alloc)\u001b[0m\n\u001b[1;32m    721\u001b[0m                     \u001b[0;31m# Note: scaleCache[i] = 0.0 from initialization\u001b[0m\u001b[0;34m\u001b[0m\u001b[0;34m\u001b[0m\u001b[0;34m\u001b[0m\u001b[0m\n\u001b[1;32m    722\u001b[0m                 \u001b[0;32melse\u001b[0m\u001b[0;34m:\u001b[0m\u001b[0;34m\u001b[0m\u001b[0;34m\u001b[0m\u001b[0m\n\u001b[0;32m--> 723\u001b[0;31m                     \u001b[0mgate\u001b[0m \u001b[0;34m=\u001b[0m \u001b[0mself\u001b[0m\u001b[0;34m.\u001b[0m\u001b[0mmodel\u001b[0m\u001b[0;34m.\u001b[0m\u001b[0mcircuit_layer_operator\u001b[0m\u001b[0;34m(\u001b[0m\u001b[0mopLabel\u001b[0m\u001b[0;34m,\u001b[0m \u001b[0;34m'op'\u001b[0m\u001b[0;34m)\u001b[0m\u001b[0;34m.\u001b[0m\u001b[0mto_dense\u001b[0m\u001b[0;34m(\u001b[0m\u001b[0mon_space\u001b[0m\u001b[0;34m=\u001b[0m\u001b[0;34m'minimal'\u001b[0m\u001b[0;34m)\u001b[0m\u001b[0;34m\u001b[0m\u001b[0;34m\u001b[0m\u001b[0m\n\u001b[0m\u001b[1;32m    724\u001b[0m                     \u001b[0mnG\u001b[0m \u001b[0;34m=\u001b[0m \u001b[0mmax\u001b[0m\u001b[0;34m(\u001b[0m\u001b[0m_nla\u001b[0m\u001b[0;34m.\u001b[0m\u001b[0mnorm\u001b[0m\u001b[0;34m(\u001b[0m\u001b[0mgate\u001b[0m\u001b[0;34m)\u001b[0m\u001b[0;34m,\u001b[0m \u001b[0;36m1.0\u001b[0m\u001b[0;34m)\u001b[0m\u001b[0;34m\u001b[0m\u001b[0;34m\u001b[0m\u001b[0m\n\u001b[1;32m    725\u001b[0m                     \u001b[0mprodCache\u001b[0m\u001b[0;34m[\u001b[0m\u001b[0miDest\u001b[0m\u001b[0;34m]\u001b[0m \u001b[0;34m=\u001b[0m \u001b[0mgate\u001b[0m \u001b[0;34m/\u001b[0m \u001b[0mnG\u001b[0m\u001b[0;34m\u001b[0m\u001b[0;34m\u001b[0m\u001b[0m\n",
      "\u001b[0;32m~/Scrivania/Quantum/Projects/sparseGST/sparsegst_venv/pyGSTi/pygsti/models/model.py\u001b[0m in \u001b[0;36mcircuit_layer_operator\u001b[0;34m(self, layerlbl, typ)\u001b[0m\n\u001b[1;32m   1467\u001b[0m         \"\"\"\n\u001b[1;32m   1468\u001b[0m         \u001b[0mself\u001b[0m\u001b[0;34m.\u001b[0m\u001b[0m_clean_paramvec\u001b[0m\u001b[0;34m(\u001b[0m\u001b[0;34m)\u001b[0m\u001b[0;34m\u001b[0m\u001b[0;34m\u001b[0m\u001b[0m\n\u001b[0;32m-> 1469\u001b[0;31m         \u001b[0;32mreturn\u001b[0m \u001b[0mself\u001b[0m\u001b[0;34m.\u001b[0m\u001b[0m_circuit_layer_operator\u001b[0m\u001b[0;34m(\u001b[0m\u001b[0mlayerlbl\u001b[0m\u001b[0;34m,\u001b[0m \u001b[0mtyp\u001b[0m\u001b[0;34m)\u001b[0m\u001b[0;34m\u001b[0m\u001b[0;34m\u001b[0m\u001b[0m\n\u001b[0m\u001b[1;32m   1470\u001b[0m \u001b[0;34m\u001b[0m\u001b[0m\n\u001b[1;32m   1471\u001b[0m     \u001b[0;32mdef\u001b[0m \u001b[0m_circuit_layer_operator\u001b[0m\u001b[0;34m(\u001b[0m\u001b[0mself\u001b[0m\u001b[0;34m,\u001b[0m \u001b[0mlayerlbl\u001b[0m\u001b[0;34m,\u001b[0m \u001b[0mtyp\u001b[0m\u001b[0;34m)\u001b[0m\u001b[0;34m:\u001b[0m\u001b[0;34m\u001b[0m\u001b[0;34m\u001b[0m\u001b[0m\n",
      "\u001b[0;32m~/Scrivania/Quantum/Projects/sparseGST/sparsegst_venv/pyGSTi/pygsti/models/model.py\u001b[0m in \u001b[0;36m_circuit_layer_operator\u001b[0;34m(self, layerlbl, typ)\u001b[0m\n\u001b[1;32m   1482\u001b[0m             \u001b[0;32mraise\u001b[0m \u001b[0mValueError\u001b[0m\u001b[0;34m(\u001b[0m\u001b[0;34m\"Cannot create operator for non-primitive circuit layer: %s\"\u001b[0m \u001b[0;34m%\u001b[0m \u001b[0mstr\u001b[0m\u001b[0;34m(\u001b[0m\u001b[0mlayerlbl\u001b[0m\u001b[0;34m)\u001b[0m\u001b[0;34m)\u001b[0m\u001b[0;34m\u001b[0m\u001b[0;34m\u001b[0m\u001b[0m\n\u001b[1;32m   1483\u001b[0m         \u001b[0;32melse\u001b[0m\u001b[0;34m:\u001b[0m\u001b[0;34m\u001b[0m\u001b[0;34m\u001b[0m\u001b[0m\n\u001b[0;32m-> 1484\u001b[0;31m             \u001b[0;32mreturn\u001b[0m \u001b[0mfns\u001b[0m\u001b[0;34m[\u001b[0m\u001b[0mtyp\u001b[0m\u001b[0;34m]\u001b[0m\u001b[0;34m(\u001b[0m\u001b[0mself\u001b[0m\u001b[0;34m,\u001b[0m \u001b[0mlayerlbl\u001b[0m\u001b[0;34m,\u001b[0m \u001b[0mself\u001b[0m\u001b[0;34m.\u001b[0m\u001b[0m_opcaches\u001b[0m\u001b[0;34m)\u001b[0m\u001b[0;34m\u001b[0m\u001b[0;34m\u001b[0m\u001b[0m\n\u001b[0m\u001b[1;32m   1485\u001b[0m \u001b[0;34m\u001b[0m\u001b[0m\n\u001b[1;32m   1486\u001b[0m     \u001b[0;32mdef\u001b[0m \u001b[0mcircuit_operator\u001b[0m\u001b[0;34m(\u001b[0m\u001b[0mself\u001b[0m\u001b[0;34m,\u001b[0m \u001b[0mcircuit\u001b[0m\u001b[0;34m)\u001b[0m\u001b[0;34m:\u001b[0m\u001b[0;34m\u001b[0m\u001b[0;34m\u001b[0m\u001b[0m\n",
      "\u001b[0;32m~/Scrivania/Quantum/Projects/sparseGST/sparsegst_venv/pyGSTi/pygsti/models/explicitmodel.py\u001b[0m in \u001b[0;36moperation_layer_operator\u001b[0;34m(self, model, layerlbl, caches)\u001b[0m\n\u001b[1;32m   1973\u001b[0m             \u001b[0;32mreturn\u001b[0m \u001b[0mmodel\u001b[0m\u001b[0;34m.\u001b[0m\u001b[0moperations\u001b[0m\u001b[0;34m[\u001b[0m\u001b[0mlayerlbl\u001b[0m\u001b[0;34m]\u001b[0m\u001b[0;34m\u001b[0m\u001b[0;34m\u001b[0m\u001b[0m\n\u001b[1;32m   1974\u001b[0m         \u001b[0;32melse\u001b[0m\u001b[0;34m:\u001b[0m\u001b[0;34m\u001b[0m\u001b[0;34m\u001b[0m\u001b[0m\n\u001b[0;32m-> 1975\u001b[0;31m             \u001b[0;32mreturn\u001b[0m \u001b[0m_opfactory\u001b[0m\u001b[0;34m.\u001b[0m\u001b[0mop_from_factories\u001b[0m\u001b[0;34m(\u001b[0m\u001b[0mmodel\u001b[0m\u001b[0;34m.\u001b[0m\u001b[0mfactories\u001b[0m\u001b[0;34m,\u001b[0m \u001b[0mlayerlbl\u001b[0m\u001b[0;34m)\u001b[0m\u001b[0;34m\u001b[0m\u001b[0;34m\u001b[0m\u001b[0m\n\u001b[0m",
      "\u001b[0;32m~/Scrivania/Quantum/Projects/sparseGST/sparsegst_venv/pyGSTi/pygsti/modelmembers/operations/opfactory.py\u001b[0m in \u001b[0;36mop_from_factories\u001b[0;34m(factory_dict, lbl)\u001b[0m\n\u001b[1;32m     66\u001b[0m \u001b[0;34m\u001b[0m\u001b[0m\n\u001b[1;32m     67\u001b[0m     \u001b[0mextra\u001b[0m \u001b[0;34m=\u001b[0m \u001b[0;34m\". Maybe you forgot the args?\"\u001b[0m \u001b[0;32mif\u001b[0m \u001b[0;32mnot\u001b[0m \u001b[0mlbl_args\u001b[0m \u001b[0;32melse\u001b[0m \u001b[0;34m\"\"\u001b[0m\u001b[0;34m\u001b[0m\u001b[0;34m\u001b[0m\u001b[0m\n\u001b[0;32m---> 68\u001b[0;31m     \u001b[0;32mraise\u001b[0m \u001b[0mKeyError\u001b[0m\u001b[0;34m(\u001b[0m\u001b[0;34m\"Cannot create operator for label `%s` from factories%s\"\u001b[0m \u001b[0;34m%\u001b[0m \u001b[0;34m(\u001b[0m\u001b[0mstr\u001b[0m\u001b[0;34m(\u001b[0m\u001b[0mlbl\u001b[0m\u001b[0;34m)\u001b[0m\u001b[0;34m,\u001b[0m \u001b[0mextra\u001b[0m\u001b[0;34m)\u001b[0m\u001b[0;34m)\u001b[0m\u001b[0;34m\u001b[0m\u001b[0;34m\u001b[0m\u001b[0m\n\u001b[0m\u001b[1;32m     69\u001b[0m \u001b[0;34m\u001b[0m\u001b[0m\n\u001b[1;32m     70\u001b[0m \u001b[0;34m\u001b[0m\u001b[0m\n",
      "\u001b[0;31mKeyError\u001b[0m: 'Cannot create operator for label `Gxpi2:0` from factories. Maybe you forgot the args?'"
     ]
    }
   ],
   "source": [
    "ds = pygsti.data.simulate_data(mdl_noisy, listOfExperiments, num_samples=1000,\n",
    "                                            sample_error=\"binomial\", seed=1234)"
   ]
  }
 ],
 "metadata": {
  "kernelspec": {
   "display_name": "Python 3 (ipykernel)",
   "language": "python",
   "name": "python3"
  },
  "language_info": {
   "codemirror_mode": {
    "name": "ipython",
    "version": 3
   },
   "file_extension": ".py",
   "mimetype": "text/x-python",
   "name": "python",
   "nbconvert_exporter": "python",
   "pygments_lexer": "ipython3",
   "version": "3.7.4"
  }
 },
 "nbformat": 4,
 "nbformat_minor": 5
}
